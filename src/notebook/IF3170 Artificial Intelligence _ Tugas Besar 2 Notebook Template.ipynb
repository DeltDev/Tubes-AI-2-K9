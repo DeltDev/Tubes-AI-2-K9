{
    "cells": [
        {
            "cell_type": "markdown",
            "metadata": {
                "id": "uR1JW69eLfG_"
            },
            "source": [
                "# **IF3170 Artificial Intelligence | Tugas Besar 2**"
            ]
        },
        {
            "cell_type": "markdown",
            "metadata": {
                "id": "ucbaI5rBLtjJ"
            },
            "source": [
                "Group Number: 9\n",
                "\n",
                "Group Members:\n",
                "- Ariel Herfrison (13522002)\n",
                "- Irfan Sidiq Permana (13522007)\n",
                "- Akbar Al Fattah (13522036)\n",
                "- Diero Arga Purnama (13522056)"
            ]
        },
        {
            "cell_type": "markdown",
            "metadata": {
                "id": "GwzsfETHLfHA"
            },
            "source": [
                "## Import Libraries"
            ]
        },
        {
            "cell_type": "code",
            "execution_count": 1753,
            "metadata": {
                "id": "jZJU5W_4LfHB"
            },
            "outputs": [],
            "source": [
                "import pandas as pd\n",
                "import numpy as np\n",
                "import matplotlib as plt\n",
                "\n",
                "from sklearn.neighbors import KNeighborsClassifier\n",
                "from sklearn.model_selection import train_test_split, KFold, cross_val_score\n",
                "from sklearn.impute import SimpleImputer\n",
                "from sklearn.feature_selection import SelectFromModel\n",
                "from sklearn.ensemble import RandomForestClassifier\n",
                "from sklearn.base import BaseEstimator, TransformerMixin\n",
                "from imblearn.under_sampling import RandomUnderSampler\n",
                "from sklearn.preprocessing import QuantileTransformer, LabelEncoder\n",
                "from sklearn.decomposition import PCA\n",
                "\n",
                "# Import models\n",
                "import sys\n",
                "import os\n",
                "\n",
                "sys.path.append(os.path.join(os.getcwd(), \"..\", \"models\"))\n",
                "\n",
                "from knn import KNN"
            ]
        },
        {
            "cell_type": "markdown",
            "metadata": {
                "id": "OKbjLIdYLfHC"
            },
            "source": [
                "## Import Dataset"
            ]
        },
        {
            "cell_type": "code",
            "execution_count": 1754,
            "metadata": {
                "id": "-IWFJ-gdLfHD"
            },
            "outputs": [],
            "source": [
                "# Import dataset from the training folder\n",
                "df_additional = pd.read_csv('../dataset/train/additional_features_train.csv')\n",
                "df_basic = pd.read_csv('../dataset/train/basic_features_train.csv')\n",
                "df_content = pd.read_csv('../dataset/train/content_features_train.csv')\n",
                "df_flow = pd.read_csv('../dataset/train/flow_features_train.csv')\n",
                "df_labels = pd.read_csv('../dataset/train/labels_train.csv')\n",
                "df_time = pd.read_csv('../dataset/train/time_features_train.csv')"
            ]
        },
        {
            "cell_type": "code",
            "execution_count": 1755,
            "metadata": {},
            "outputs": [
                {
                    "data": {
                        "text/html": [
                            "<div>\n",
                            "<style scoped>\n",
                            "    .dataframe tbody tr th:only-of-type {\n",
                            "        vertical-align: middle;\n",
                            "    }\n",
                            "\n",
                            "    .dataframe tbody tr th {\n",
                            "        vertical-align: top;\n",
                            "    }\n",
                            "\n",
                            "    .dataframe thead th {\n",
                            "        text-align: right;\n",
                            "    }\n",
                            "</style>\n",
                            "<table border=\"1\" class=\"dataframe\">\n",
                            "  <thead>\n",
                            "    <tr style=\"text-align: right;\">\n",
                            "      <th></th>\n",
                            "      <th>sjit</th>\n",
                            "      <th>djit</th>\n",
                            "      <th>sinpkt</th>\n",
                            "      <th>dinpkt</th>\n",
                            "      <th>tcprtt</th>\n",
                            "      <th>synack</th>\n",
                            "      <th>ackdat</th>\n",
                            "      <th>id</th>\n",
                            "      <th>attack_cat</th>\n",
                            "      <th>label</th>\n",
                            "      <th>...</th>\n",
                            "      <th>ct_flw_http_mthd</th>\n",
                            "      <th>is_ftp_login</th>\n",
                            "      <th>ct_ftp_cmd</th>\n",
                            "      <th>ct_srv_src</th>\n",
                            "      <th>ct_srv_dst</th>\n",
                            "      <th>ct_dst_ltm</th>\n",
                            "      <th>ct_src_ltm</th>\n",
                            "      <th>ct_src_dport_ltm</th>\n",
                            "      <th>ct_dst_sport_ltm</th>\n",
                            "      <th>ct_dst_src_ltm</th>\n",
                            "    </tr>\n",
                            "  </thead>\n",
                            "  <tbody>\n",
                            "    <tr>\n",
                            "      <th>0</th>\n",
                            "      <td>4449.110313</td>\n",
                            "      <td>3234.831566</td>\n",
                            "      <td>11.845558</td>\n",
                            "      <td>6.261361</td>\n",
                            "      <td>NaN</td>\n",
                            "      <td>0.000444</td>\n",
                            "      <td>0.000114</td>\n",
                            "      <td>0</td>\n",
                            "      <td>Normal</td>\n",
                            "      <td>0</td>\n",
                            "      <td>...</td>\n",
                            "      <td>0.0</td>\n",
                            "      <td>0.0</td>\n",
                            "      <td>0.0</td>\n",
                            "      <td>11.0</td>\n",
                            "      <td>NaN</td>\n",
                            "      <td>5.0</td>\n",
                            "      <td>4.0</td>\n",
                            "      <td>2.0</td>\n",
                            "      <td>1.0</td>\n",
                            "      <td>5.0</td>\n",
                            "    </tr>\n",
                            "    <tr>\n",
                            "      <th>1</th>\n",
                            "      <td>0.000000</td>\n",
                            "      <td>0.000000</td>\n",
                            "      <td>0.009000</td>\n",
                            "      <td>0.000000</td>\n",
                            "      <td>0.000000</td>\n",
                            "      <td>0.000000</td>\n",
                            "      <td>NaN</td>\n",
                            "      <td>1</td>\n",
                            "      <td>Generic</td>\n",
                            "      <td>1</td>\n",
                            "      <td>...</td>\n",
                            "      <td>0.0</td>\n",
                            "      <td>0.0</td>\n",
                            "      <td>0.0</td>\n",
                            "      <td>10.0</td>\n",
                            "      <td>10.0</td>\n",
                            "      <td>10.0</td>\n",
                            "      <td>10.0</td>\n",
                            "      <td>NaN</td>\n",
                            "      <td>10.0</td>\n",
                            "      <td>10.0</td>\n",
                            "    </tr>\n",
                            "    <tr>\n",
                            "      <th>2</th>\n",
                            "      <td>8561.040438</td>\n",
                            "      <td>249.950547</td>\n",
                            "      <td>165.386453</td>\n",
                            "      <td>172.345750</td>\n",
                            "      <td>0.158826</td>\n",
                            "      <td>0.057902</td>\n",
                            "      <td>0.100924</td>\n",
                            "      <td>2</td>\n",
                            "      <td>Exploits</td>\n",
                            "      <td>1</td>\n",
                            "      <td>...</td>\n",
                            "      <td>0.0</td>\n",
                            "      <td>0.0</td>\n",
                            "      <td>0.0</td>\n",
                            "      <td>4.0</td>\n",
                            "      <td>4.0</td>\n",
                            "      <td>2.0</td>\n",
                            "      <td>2.0</td>\n",
                            "      <td>1.0</td>\n",
                            "      <td>1.0</td>\n",
                            "      <td>4.0</td>\n",
                            "    </tr>\n",
                            "    <tr>\n",
                            "      <th>3</th>\n",
                            "      <td>4053.086020</td>\n",
                            "      <td>2918.730804</td>\n",
                            "      <td>8.669644</td>\n",
                            "      <td>4.496707</td>\n",
                            "      <td>0.000558</td>\n",
                            "      <td>0.000448</td>\n",
                            "      <td>NaN</td>\n",
                            "      <td>3</td>\n",
                            "      <td>Normal</td>\n",
                            "      <td>0</td>\n",
                            "      <td>...</td>\n",
                            "      <td>0.0</td>\n",
                            "      <td>0.0</td>\n",
                            "      <td>0.0</td>\n",
                            "      <td>9.0</td>\n",
                            "      <td>9.0</td>\n",
                            "      <td>3.0</td>\n",
                            "      <td>2.0</td>\n",
                            "      <td>2.0</td>\n",
                            "      <td>1.0</td>\n",
                            "      <td>6.0</td>\n",
                            "    </tr>\n",
                            "    <tr>\n",
                            "      <th>4</th>\n",
                            "      <td>0.000000</td>\n",
                            "      <td>0.000000</td>\n",
                            "      <td>0.008000</td>\n",
                            "      <td>0.007000</td>\n",
                            "      <td>0.000000</td>\n",
                            "      <td>0.000000</td>\n",
                            "      <td>0.000000</td>\n",
                            "      <td>4</td>\n",
                            "      <td>Normal</td>\n",
                            "      <td>0</td>\n",
                            "      <td>...</td>\n",
                            "      <td>0.0</td>\n",
                            "      <td>0.0</td>\n",
                            "      <td>0.0</td>\n",
                            "      <td>3.0</td>\n",
                            "      <td>3.0</td>\n",
                            "      <td>4.0</td>\n",
                            "      <td>3.0</td>\n",
                            "      <td>1.0</td>\n",
                            "      <td>NaN</td>\n",
                            "      <td>1.0</td>\n",
                            "    </tr>\n",
                            "  </tbody>\n",
                            "</table>\n",
                            "<p>5 rows × 44 columns</p>\n",
                            "</div>"
                        ],
                        "text/plain": [
                            "          sjit         djit      sinpkt      dinpkt    tcprtt    synack  \\\n",
                            "0  4449.110313  3234.831566   11.845558    6.261361       NaN  0.000444   \n",
                            "1     0.000000     0.000000    0.009000    0.000000  0.000000  0.000000   \n",
                            "2  8561.040438   249.950547  165.386453  172.345750  0.158826  0.057902   \n",
                            "3  4053.086020  2918.730804    8.669644    4.496707  0.000558  0.000448   \n",
                            "4     0.000000     0.000000    0.008000    0.007000  0.000000  0.000000   \n",
                            "\n",
                            "     ackdat  id attack_cat  label  ... ct_flw_http_mthd  is_ftp_login  \\\n",
                            "0  0.000114   0     Normal      0  ...              0.0           0.0   \n",
                            "1       NaN   1    Generic      1  ...              0.0           0.0   \n",
                            "2  0.100924   2   Exploits      1  ...              0.0           0.0   \n",
                            "3       NaN   3     Normal      0  ...              0.0           0.0   \n",
                            "4  0.000000   4     Normal      0  ...              0.0           0.0   \n",
                            "\n",
                            "   ct_ftp_cmd  ct_srv_src  ct_srv_dst  ct_dst_ltm  ct_src_ltm  \\\n",
                            "0         0.0        11.0         NaN         5.0         4.0   \n",
                            "1         0.0        10.0        10.0        10.0        10.0   \n",
                            "2         0.0         4.0         4.0         2.0         2.0   \n",
                            "3         0.0         9.0         9.0         3.0         2.0   \n",
                            "4         0.0         3.0         3.0         4.0         3.0   \n",
                            "\n",
                            "   ct_src_dport_ltm  ct_dst_sport_ltm ct_dst_src_ltm  \n",
                            "0               2.0               1.0            5.0  \n",
                            "1               NaN              10.0           10.0  \n",
                            "2               1.0               1.0            4.0  \n",
                            "3               2.0               1.0            6.0  \n",
                            "4               1.0               NaN            1.0  \n",
                            "\n",
                            "[5 rows x 44 columns]"
                        ]
                    },
                    "execution_count": 1755,
                    "metadata": {},
                    "output_type": "execute_result"
                }
            ],
            "source": [
                "# Join the datasets based on the 'id' attribute\n",
                "df_merged = (\n",
                "    df_time\n",
                "    .merge(df_labels, on = \"id\", how = \"left\")\n",
                "    .merge(df_flow, on = \"id\", how = \"left\")\n",
                "    .merge(df_content, on = \"id\", how = \"left\")\n",
                "    .merge(df_basic, on = \"id\", how = \"left\")\n",
                "    .merge(df_additional, on = \"id\", how = \"left\")\n",
                ")\n",
                "\n",
                "df_merged.head()"
            ]
        },
        {
            "cell_type": "markdown",
            "metadata": {
                "id": "YdSor5sdIYGs"
            },
            "source": [
                "# Exploratory Data Analysis (Optional)\n",
                "\n",
                "Exploratory Data Analysis (EDA) is a crucial step in the data analysis process that involves examining and visualizing data sets to uncover patterns, trends, anomalies, and insights. It is the first step before applying more advanced statistical and machine learning techniques. EDA helps you to gain a deep understanding of the data you are working with, allowing you to make informed decisions and formulate hypotheses for further analysis."
            ]
        },
        {
            "cell_type": "code",
            "execution_count": 1756,
            "metadata": {
                "id": "bGiGPVYNIoWk"
            },
            "outputs": [],
            "source": [
                "# Write your code here"
            ]
        },
        {
            "cell_type": "markdown",
            "metadata": {
                "id": "gvx-gT3bLfHM"
            },
            "source": [
                "# 1. Split Training Set and Validation Set\n",
                "\n",
                "Splitting the training and validation set works as an early diagnostic towards the performance of the model we train. This is done before the preprocessing steps to **avoid data leakage inbetween the sets**. If you want to use k-fold cross-validation, split the data later and do the cleaning and preprocessing separately for each split.\n",
                "\n",
                "Note: For training, you should use the data contained in the `train` folder given by the TA. The `test` data is only used for kaggle submission."
            ]
        },
        {
            "cell_type": "code",
            "execution_count": 1757,
            "metadata": {
                "id": "4yWCUFFBLfHM"
            },
            "outputs": [
                {
                    "name": "stdout",
                    "output_type": "stream",
                    "text": [
                        "Training set size: 140272\n",
                        "Validation set size: 35069\n"
                    ]
                }
            ],
            "source": [
                "train_set, val_set = train_test_split(df_merged, test_size=0.2, random_state=42)\n",
                "\n",
                "print(f\"Training set size: {train_set.shape[0]}\")\n",
                "print(f\"Validation set size: {val_set.shape[0]}\")"
            ]
        },
        {
            "cell_type": "markdown",
            "metadata": {
                "id": "IC14lmo_LfHN"
            },
            "source": [
                "# 2. Data Cleaning and Preprocessing\n",
                "\n",
                "This step is the first thing to be done once a Data Scientist have grasped a general knowledge of the data. Raw data is **seldom ready for training**, therefore steps need to be taken to clean and format the data for the Machine Learning model to interpret.\n",
                "\n",
                "By performing data cleaning and preprocessing, you ensure that your dataset is ready for model training, leading to more accurate and reliable machine learning results. These steps are essential for transforming raw data into a format that machine learning algorithms can effectively learn from and make predictions.\n",
                "\n",
                "We will give some common methods for you to try, but you only have to **at least implement one method for each process**. For each step that you will do, **please explain the reason why did you do that process. Write it in a markdown cell under the code cell you wrote.**"
            ]
        },
        {
            "cell_type": "markdown",
            "metadata": {
                "id": "p95_A8hSLfHY"
            },
            "source": [
                "## A. Data Cleaning\n",
                "\n",
                "**Data cleaning** is the crucial first step in preparing your dataset for machine learning. Raw data collected from various sources is often messy and may contain errors, missing values, and inconsistencies. Data cleaning involves the following steps:\n",
                "\n",
                "1. **Handling Missing Data:** Identify and address missing values in the dataset. This can include imputing missing values, removing rows or columns with excessive missing data, or using more advanced techniques like interpolation.\n",
                "\n",
                "2. **Dealing with Outliers:** Identify and handle outliers, which are data points significantly different from the rest of the dataset. Outliers can be removed or transformed to improve model performance.\n",
                "\n",
                "3. **Data Validation:** Check for data integrity and consistency. Ensure that data types are correct, categorical variables have consistent labels, and numerical values fall within expected ranges.\n",
                "\n",
                "4. **Removing Duplicates:** Identify and remove duplicate rows, as they can skew the model's training process and evaluation metrics.\n",
                "\n",
                "5. **Feature Engineering**: Create new features or modify existing ones to extract relevant information. This step can involve scaling, normalizing, or encoding features for better model interpretability."
            ]
        },
        {
            "cell_type": "markdown",
            "metadata": {
                "id": "_wruGao9LfHZ"
            },
            "source": [
                "### I. Handling Missing Data\n",
                "\n",
                "Missing data can adversely affect the performance and accuracy of machine learning models. There are several strategies to handle missing data in machine learning:\n",
                "\n",
                "1. **Data Imputation:**\n",
                "\n",
                "    a. **Mean, Median, or Mode Imputation:** For numerical features, you can replace missing values with the mean, median, or mode of the non-missing values in the same feature. This method is simple and often effective when data is missing at random.\n",
                "\n",
                "    b. **Constant Value Imputation:** You can replace missing values with a predefined constant value (e.g., 0) if it makes sense for your dataset and problem.\n",
                "\n",
                "    c. **Imputation Using Predictive Models:** More advanced techniques involve using predictive models to estimate missing values. For example, you can train a regression model to predict missing numerical values or a classification model to predict missing categorical values.\n",
                "\n",
                "2. **Deletion of Missing Data:**\n",
                "\n",
                "    a. **Listwise Deletion:** In cases where the amount of missing data is relatively small, you can simply remove rows with missing values from your dataset. However, this approach can lead to a loss of valuable information.\n",
                "\n",
                "    b. **Column (Feature) Deletion:** If a feature has a large number of missing values and is not critical for your analysis, you can consider removing that feature altogether.\n",
                "\n",
                "3. **Domain-Specific Strategies:**\n",
                "\n",
                "    a. **Domain Knowledge:** In some cases, domain knowledge can guide the imputation process. For example, if you know that missing values are related to a specific condition, you can impute them accordingly.\n",
                "\n",
                "4. **Imputation Libraries:**\n",
                "\n",
                "    a. **Scikit-Learn:** Scikit-Learn provides a `SimpleImputer` class that can handle basic imputation strategies like mean, median, and mode imputation.\n",
                "\n",
                "    b. **Fancyimpute:** Fancyimpute is a Python library that offers more advanced imputation techniques, including matrix factorization, k-nearest neighbors, and deep learning-based methods.\n",
                "\n",
                "The choice of imputation method should be guided by the nature of your data, the amount of missing data, the problem you are trying to solve, and the assumptions you are willing to make."
            ]
        },
        {
            "cell_type": "markdown",
            "metadata": {},
            "source": [
                "To check if we could use the methods in the Deletion of Missing Data strategy, we first need to find how many of the data entries has missing values:"
            ]
        },
        {
            "cell_type": "code",
            "execution_count": 1758,
            "metadata": {
                "id": "ucZNfCkiLfHZ"
            },
            "outputs": [
                {
                    "name": "stdout",
                    "output_type": "stream",
                    "text": [
                        "Number of entries in training set: 140272\n",
                        "Number of entries in training set that has missing values: 123176\n",
                        "Number of entries in validation set: 35069\n",
                        "Number of entries in validation set that has missing values: 35069\n"
                    ]
                }
            ],
            "source": [
                "# Check the number of data entries with missing values\n",
                "missing_data = train_set[train_set.isnull().any(axis=1)]\n",
                "print(f\"Number of entries in training set: {train_set.shape[0]}\")\n",
                "print(f\"Number of entries in training set that has missing values: {missing_data.shape[0]}\")\n",
                "\n",
                "missing_data = val_set[val_set.isnull().any(axis=1)]\n",
                "print(f\"Number of entries in validation set: {val_set.shape[0]}\")\n",
                "print(f\"Number of entries in validation set that has missing values: {val_set.shape[0]}\")"
            ]
        },
        {
            "cell_type": "markdown",
            "metadata": {},
            "source": [
                "As can be seen above, the number of entries that has missing values largely represents the original training dataset (that is, 87,8% of the training dataset has missing values), therefore we clearly cannot use the strategy Deletion of Missing Data with the method Listwise Deletion.\n",
                "\n",
                "Next, to check if we can use the method Column (Feature) Deletion, we check if there are some features that particularly have very many null values compared to the other features:"
            ]
        },
        {
            "cell_type": "code",
            "execution_count": 1759,
            "metadata": {},
            "outputs": [
                {
                    "name": "stdout",
                    "output_type": "stream",
                    "text": [
                        "Count for missing values in each feature in training set:\n",
                        "sjit                 7015\n",
                        "djit                 7109\n",
                        "sinpkt               6953\n",
                        "dinpkt               6999\n",
                        "tcprtt               7093\n",
                        "synack               6943\n",
                        "ackdat               6886\n",
                        "id                      0\n",
                        "attack_cat              0\n",
                        "label                   0\n",
                        "proto                7033\n",
                        "swin                 6971\n",
                        "dwin                 6999\n",
                        "stcpb                6941\n",
                        "dtcpb                7072\n",
                        "smean                7008\n",
                        "dmean                7078\n",
                        "trans_depth          7001\n",
                        "response_body_len    6999\n",
                        "state                7034\n",
                        "dur                  6957\n",
                        "sbytes               6836\n",
                        "dbytes               7069\n",
                        "sttl                 7022\n",
                        "dttl                 6937\n",
                        "sloss                7004\n",
                        "dloss                7209\n",
                        "service              7038\n",
                        "sload                7006\n",
                        "dload                7096\n",
                        "spkts                6959\n",
                        "dpkts                6918\n",
                        "is_sm_ips_ports      7028\n",
                        "ct_state_ttl         7000\n",
                        "ct_flw_http_mthd     6946\n",
                        "is_ftp_login         6910\n",
                        "ct_ftp_cmd           7057\n",
                        "ct_srv_src           7102\n",
                        "ct_srv_dst           7015\n",
                        "ct_dst_ltm           7004\n",
                        "ct_src_ltm           7028\n",
                        "ct_src_dport_ltm     7036\n",
                        "ct_dst_sport_ltm     7079\n",
                        "ct_dst_src_ltm       7086\n",
                        "dtype: int64\n",
                        "\n",
                        "Count for missing values in each feature in validation set:\n",
                        "sjit                 1723\n",
                        "djit                 1737\n",
                        "sinpkt               1754\n",
                        "dinpkt               1735\n",
                        "tcprtt               1743\n",
                        "synack               1793\n",
                        "ackdat               1709\n",
                        "id                      0\n",
                        "attack_cat              0\n",
                        "label                   0\n",
                        "proto                1793\n",
                        "swin                 1769\n",
                        "dwin                 1780\n",
                        "stcpb                1731\n",
                        "dtcpb                1731\n",
                        "smean                1780\n",
                        "dmean                1777\n",
                        "trans_depth          1784\n",
                        "response_body_len    1792\n",
                        "state                1771\n",
                        "dur                  1765\n",
                        "sbytes               1725\n",
                        "dbytes               1800\n",
                        "sttl                 1803\n",
                        "dttl                 1717\n",
                        "sloss                1790\n",
                        "dloss                1769\n",
                        "service              1753\n",
                        "sload                1780\n",
                        "dload                1741\n",
                        "spkts                1695\n",
                        "dpkts                1768\n",
                        "is_sm_ips_ports      1718\n",
                        "ct_state_ttl         1635\n",
                        "ct_flw_http_mthd     1701\n",
                        "is_ftp_login         1737\n",
                        "ct_ftp_cmd           1785\n",
                        "ct_srv_src           1749\n",
                        "ct_srv_dst           1759\n",
                        "ct_dst_ltm           1734\n",
                        "ct_src_ltm           1795\n",
                        "ct_src_dport_ltm     1739\n",
                        "ct_dst_sport_ltm     1709\n",
                        "ct_dst_src_ltm       1809\n",
                        "dtype: int64\n"
                    ]
                }
            ],
            "source": [
                "missing_values_count = train_set.isnull().sum()\n",
                "print(\"Count for missing values in each feature in training set:\")\n",
                "print(missing_values_count)\n",
                "\n",
                "missing_values_count = val_set.isnull().sum()\n",
                "print(\"\\nCount for missing values in each feature in validation set:\")\n",
                "print(missing_values_count)"
            ]
        },
        {
            "cell_type": "markdown",
            "metadata": {},
            "source": [
                "As can be seen above, the number of entries that has missing values is distributed pretty much evenly across the features except for the ID and target features, so we definitely cannot use the method Column (Feature) Deletion either."
            ]
        },
        {
            "cell_type": "markdown",
            "metadata": {},
            "source": [
                "Our option left is to do imputation on the training dataset.\n",
                "- For the **categorical** features, we fill the missing values with the **most frequent value** of the attribute.\n",
                "- For the **numerical** features, we fill the missing values with the **median** value of the attribute. This is to prevent outliers from massively damaging our results, because if we use mean for filling the missing values there could be outliers that have very large or very small values compared to the rest of the data, and this can massively skew the mean value."
            ]
        },
        {
            "cell_type": "markdown",
            "metadata": {},
            "source": [
                "First, we define the method for imputing our dataframe:"
            ]
        },
        {
            "cell_type": "code",
            "execution_count": 1760,
            "metadata": {},
            "outputs": [],
            "source": [
                "# Method for imputing dataset\n",
                "def impute(df: pd.DataFrame) -> pd.DataFrame:\n",
                "    categorical_features = ['proto', 'state', 'service', 'is_sm_ips_ports', 'is_ftp_login', 'id']  # id is only used for join later\n",
                "    target_feature = 'attack_cat'\n",
                "\n",
                "    categorical_set = df[categorical_features]\n",
                "    if 'label' in df.columns:\n",
                "        categorical_set = categorical_set.join(df['label'])\n",
                "    \n",
                "    categorical_features.remove('id')\n",
                "    numerical_set = df.drop(categorical_features, axis=1)\n",
                "    if 'label' in df.columns:\n",
                "        numerical_set = numerical_set.drop('label', axis=1)\n",
                "    \n",
                "    has_target_feature = False\n",
                "    if target_feature in df.columns:\n",
                "        target_set = df[[target_feature, 'id']] # id is used for join later\n",
                "        numerical_set = numerical_set.drop(target_feature, axis=1)\n",
                "        has_target_feature = True\n",
                "    else:\n",
                "        target_set = None\n",
                "\n",
                "    imputer_mode = SimpleImputer(strategy='most_frequent')\n",
                "    imputer_median = SimpleImputer(strategy='median')\n",
                "\n",
                "    categorical_set = pd.DataFrame(\n",
                "        imputer_mode.fit_transform(categorical_set),\n",
                "        columns=categorical_set.columns,\n",
                "        index=categorical_set.index\n",
                "    )\n",
                "\n",
                "    numerical_set = pd.DataFrame(\n",
                "        imputer_median.fit_transform(numerical_set),\n",
                "        columns=numerical_set.columns,\n",
                "        index=numerical_set.index\n",
                "    )\n",
                "\n",
                "    result = categorical_set.merge(numerical_set, on='id')\n",
                "    if has_target_feature:\n",
                "        result = result.merge(target_set, on='id')\n",
                "        \n",
                "    return result"
            ]
        },
        {
            "cell_type": "markdown",
            "metadata": {},
            "source": [
                "Then we can use it to impute both the train set and validation set:"
            ]
        },
        {
            "cell_type": "code",
            "execution_count": 1761,
            "metadata": {},
            "outputs": [
                {
                    "name": "stdout",
                    "output_type": "stream",
                    "text": [
                        "Number of data entries in training set with missing values: 0\n",
                        "Number of data entries in validation set with missing values: 0\n"
                    ]
                }
            ],
            "source": [
                "# Imputing train set and validation set\n",
                "train_set = impute(train_set)\n",
                "val_set = impute(val_set)\n",
                "\n",
                "# Check if there's missing data after imputing\n",
                "missing_data_train = train_set[train_set.isnull().any(axis=1)]\n",
                "missing_data_val = val_set[val_set.isnull().any(axis=1)]\n",
                "\n",
                "print(f\"Number of data entries in training set with missing values: {missing_data_train.shape[0]}\")\n",
                "print(f\"Number of data entries in validation set with missing values: {missing_data_val.shape[0]}\")"
            ]
        },
        {
            "cell_type": "markdown",
            "metadata": {
                "id": "zgrSMcK75VY_"
            },
            "source": [
                "### II. Dealing with Outliers\n",
                "\n",
                "Outliers are data points that significantly differ from the majority of the data. They can be unusually high or low values that do not fit the pattern of the rest of the dataset. Outliers can significantly impact model performance, so it is important to handle them properly.\n",
                "\n",
                "Some methods to handle outliers:\n",
                "1. **Imputation**: Replace with mean, median, or a boundary value.\n",
                "2. **Clipping**: Cap values to upper and lower limits.\n",
                "3. **Transformation**: Use log, square root, or power transformations to reduce their influence.\n",
                "4. **Model-Based**: Use algorithms robust to outliers (e.g., tree-based models, Huber regression)."
            ]
        },
        {
            "cell_type": "markdown",
            "metadata": {},
            "source": [
                "First, we check how many outliers are there in our dataset. This is done to help us decide what to do with the outliers. For example, if the number of outliers is significantly smaller than our entire population, then dropping the outliers is safe. But if the number of outliers is not insignificant, dropping them can hugely impact our results as we wouldn't have enough data to train our model."
            ]
        },
        {
            "cell_type": "markdown",
            "metadata": {},
            "source": [
                "Let us define the function to select the outliers:"
            ]
        },
        {
            "cell_type": "code",
            "execution_count": 1762,
            "metadata": {
                "id": "CgbZ6Lv17Uf0"
            },
            "outputs": [],
            "source": [
                "# Function to find the outliers\n",
                "def select_outliers(df: pd.DataFrame) -> pd.DataFrame:\n",
                "    outliers_mask = pd.DataFrame(False, index=df.index, columns=df.columns)\n",
                "\n",
                "    for column in df.select_dtypes(include=['number']).columns:\n",
                "        Q1 = df[column].quantile(0.25)\n",
                "        Q3 = df[column].quantile(0.75)\n",
                "        IQR = Q3 - Q1\n",
                "\n",
                "        lower_bound = Q1 - 1.5 * IQR\n",
                "        upper_bound = Q3 + 1.5 * IQR\n",
                "\n",
                "        outliers_mask[column] = (df[column] < lower_bound) | (df[column] > upper_bound)\n",
                "\n",
                "    outlier_rows = outliers_mask.any(axis=1)\n",
                "    return outlier_rows"
            ]
        },
        {
            "cell_type": "markdown",
            "metadata": {},
            "source": [
                "Then we can use it to find the number of outliers in our dataset:"
            ]
        },
        {
            "cell_type": "code",
            "execution_count": 1763,
            "metadata": {},
            "outputs": [
                {
                    "name": "stdout",
                    "output_type": "stream",
                    "text": [
                        "Number of outliers in the training set: 115228\n",
                        "Number of outliers in the validation set: 28855\n"
                    ]
                }
            ],
            "source": [
                "# Display the number of outliers in train set and validation set\n",
                "outliers_train = select_outliers(train_set)\n",
                "outliers_val = select_outliers(val_set)\n",
                "\n",
                "print(f\"Number of outliers in the training set: {outliers_train.sum()}\")\n",
                "print(f\"Number of outliers in the validation set: {outliers_val.sum()}\")"
            ]
        },
        {
            "cell_type": "markdown",
            "metadata": {},
            "source": [
                "As can be seen above, the number of outliers hugely represents our entire dataset (82,15% of the entire train set!), and thus we clearly cannot drop the outliers. Our option is then to replace the outlier values with the median (as we have done so before for missing values)."
            ]
        },
        {
            "cell_type": "markdown",
            "metadata": {},
            "source": [
                "Like before, we define the function for replacing the outliers with median first:"
            ]
        },
        {
            "cell_type": "code",
            "execution_count": 1764,
            "metadata": {},
            "outputs": [],
            "source": [
                "# Function for replacing outlier values with the median\n",
                "def replace_outliers_with_median(df):\n",
                "    for column in df.select_dtypes(include=['number']).columns:\n",
                "        Q1 = df[column].quantile(0.25)\n",
                "        Q3 = df[column].quantile(0.75)\n",
                "        IQR = Q3 - Q1\n",
                "\n",
                "        lower_bound = Q1 - 1.5 * IQR\n",
                "        upper_bound = Q3 + 1.5 * IQR\n",
                "\n",
                "        median = df[column].median()\n",
                "        df[column] = df[column].apply(\n",
                "            lambda x: median if x < lower_bound or x > upper_bound else x\n",
                "        )\n",
                "    return df"
            ]
        },
        {
            "cell_type": "markdown",
            "metadata": {},
            "source": [
                "Then we can use it to replace the outliers in the train set and validation set:"
            ]
        },
        {
            "cell_type": "code",
            "execution_count": 1765,
            "metadata": {},
            "outputs": [
                {
                    "name": "stdout",
                    "output_type": "stream",
                    "text": [
                        "Number of outliers in the training set: 115677\n",
                        "Number of outliers in the validation set: 28851\n"
                    ]
                }
            ],
            "source": [
                "# Replace the outlier values in the train set and validation set with the median\n",
                "train_set = replace_outliers_with_median(train_set)\n",
                "val_set = replace_outliers_with_median(val_set)\n",
                "\n",
                "# Check the number of outliers after replacing them with median\n",
                "outliers_train = select_outliers(train_set)\n",
                "outliers_val = select_outliers(val_set)\n",
                "\n",
                "print(f\"Number of outliers in the training set: {outliers_train.sum()}\")\n",
                "print(f\"Number of outliers in the validation set: {outliers_val.sum()}\")"
            ]
        },
        {
            "cell_type": "markdown",
            "metadata": {},
            "source": [
                "### III. Remove Duplicates\n",
                "Handling duplicate values is crucial because they can compromise data integrity, leading to inaccurate analysis and insights. Duplicate entries can bias machine learning models, causing overfitting and reducing their ability to generalize to new data. They also inflate the dataset size unnecessarily, increasing computational costs and processing times. Additionally, duplicates can distort statistical measures and lead to inconsistencies, ultimately affecting the reliability of data-driven decisions and reporting. Ensuring data quality by removing duplicates is essential for accurate, efficient, and consistent analysis."
            ]
        },
        {
            "cell_type": "markdown",
            "metadata": {},
            "source": [
                "First, we check how many duplicate data are there in our dataset:"
            ]
        },
        {
            "cell_type": "code",
            "execution_count": 1766,
            "metadata": {},
            "outputs": [
                {
                    "name": "stdout",
                    "output_type": "stream",
                    "text": [
                        "Number of duplicates in training dataset: 28681\n",
                        "Number of duplicates in validation dataset: 5144\n"
                    ]
                }
            ],
            "source": [
                "# Display the number of duplicates in train set and validation set\n",
                "duplicates_count_train = train_set.duplicated(subset=[col for col in train_set.columns if col != 'id']).sum()\n",
                "duplicates_count_val = val_set.duplicated(subset=[col for col in train_set.columns if col != 'id']).sum()\n",
                "\n",
                "print(f\"Number of duplicates in training dataset: {duplicates_count_train}\")\n",
                "print(f\"Number of duplicates in validation dataset: {duplicates_count_val}\")"
            ]
        },
        {
            "cell_type": "markdown",
            "metadata": {},
            "source": [
                "It turns out that the number of duplicates is a lot more than we've expected (20% of the train set, and 14,67% of the validation set). If unhandled, our model would overfit on these duplicate data in the training phase, and this would negatively impact their ability to predict the class correctly. Yet unlike with handling missing values or handling outliers, we cannot \"manipulate\" the duplicate data itself because they do not represent new information (and thus imputing them would only make the quality of our dataset worse by adding artificial, unmeaningful data). Thus, we need to remove the duplicate:"
            ]
        },
        {
            "cell_type": "code",
            "execution_count": 1767,
            "metadata": {},
            "outputs": [
                {
                    "name": "stdout",
                    "output_type": "stream",
                    "text": [
                        "Number of duplicates in training dataset: 0\n",
                        "Number of duplicates in validation dataset: 0\n"
                    ]
                }
            ],
            "source": [
                "# Drop all duplicate data in train set and validation set\n",
                "train_set = train_set.drop_duplicates(subset=[col for col in train_set.columns if col != 'id'], keep='first')\n",
                "val_set = val_set.drop_duplicates(subset=[col for col in train_set.columns if col != 'id'], keep='first')\n",
                "\n",
                "# Check the number of duplicate data after dropping them\n",
                "duplicates_count_train = train_set.duplicated(subset=[col for col in train_set.columns if col != 'id']).sum()\n",
                "duplicates_count_val = val_set.duplicated(subset=[col for col in train_set.columns if col != 'id']).sum()\n",
                "\n",
                "print(f\"Number of duplicates in training dataset: {duplicates_count_train}\")\n",
                "print(f\"Number of duplicates in validation dataset: {duplicates_count_val}\")"
            ]
        },
        {
            "cell_type": "markdown",
            "metadata": {
                "id": "eycPASmMLfHa"
            },
            "source": [
                "### IV. Feature Engineering\n",
                "\n",
                "**Feature engineering** involves creating new features (input variables) or transforming existing ones to improve the performance of machine learning models. Feature engineering aims to enhance the model's ability to learn patterns and make accurate predictions from the data. It's often said that \"good features make good models.\"\n",
                "\n",
                "1. **Feature Selection:** Feature engineering can involve selecting the most relevant and informative features from the dataset. Removing irrelevant or redundant features not only simplifies the model but also reduces the risk of overfitting.\n",
                "\n",
                "2. **Creating New Features:** Sometimes, the existing features may not capture the underlying patterns effectively. In such cases, engineers create new features that provide additional information. For example:\n",
                "   \n",
                "   - **Polynomial Features:** Engineers may create new features by taking the square, cube, or other higher-order terms of existing numerical features. This can help capture nonlinear relationships.\n",
                "   \n",
                "   - **Interaction Features:** Interaction features are created by combining two or more existing features. For example, if you have features \"length\" and \"width,\" you can create an \"area\" feature by multiplying them.\n",
                "\n",
                "3. **Binning or Discretization:** Continuous numerical features can be divided into bins or categories. For instance, age values can be grouped into bins like \"child,\" \"adult,\" and \"senior.\"\n",
                "\n",
                "4. **Domain-Specific Feature Engineering:** Depending on the domain and problem, engineers may create domain-specific features. For example, in fraud detection, features related to transaction history and user behavior may be engineered to identify anomalies.\n",
                "\n",
                "Feature engineering is both a creative and iterative process. It requires a deep understanding of the data, domain knowledge, and experimentation to determine which features will enhance the model's predictive power."
            ]
        },
        {
            "cell_type": "markdown",
            "metadata": {},
            "source": [
                "Note: Our group decided to do feature selection **after one-hot encoding**.\n",
                "\n",
                "One of the most common method for feature engineering is feature selection, which is selecting only the most impactful features from the entire dataset (that is, features that has a huge impact on improving the model's performance).\n",
                "\n",
                "However, to do feature selection we usually need to use a model for deciding which features to keep, and these models cannot receive non numerical attributes. Therefore, we decided to push feature selection further down until one-hot encoding is done to the dataset so that we can use the models for feature selection. For now, we will only drop the 'id' attribute which we can be sure it will not help our model to predict the target class."
            ]
        },
        {
            "cell_type": "code",
            "execution_count": 1768,
            "metadata": {},
            "outputs": [],
            "source": [
                "train_set = train_set.drop('id', axis=1)\n",
                "val_set = val_set.drop('id', axis=1)"
            ]
        },
        {
            "cell_type": "markdown",
            "metadata": {
                "id": "xw11_49xLfHb"
            },
            "source": [
                "## B. Data Preprocessing\n",
                "\n",
                "**Data preprocessing** is a broader step that encompasses both data cleaning and additional transformations to make the data suitable for machine learning algorithms. Its primary goals are:\n",
                "\n",
                "1. **Feature Scaling:** Ensure that numerical features have similar scales. Common techniques include Min-Max scaling (scaling to a specific range) or standardization (mean-centered, unit variance).\n",
                "\n",
                "2. **Encoding Categorical Variables:** Machine learning models typically work with numerical data, so categorical variables need to be encoded. This can be done using one-hot encoding, label encoding, or more advanced methods like target encoding.\n",
                "\n",
                "3. **Handling Imbalanced Classes:** If dealing with imbalanced classes in a binary classification task, apply techniques such as oversampling, undersampling, or using different evaluation metrics to address class imbalance.\n",
                "\n",
                "4. **Dimensionality Reduction:** Reduce the number of features using techniques like Principal Component Analysis (PCA) or feature selection to simplify the model and potentially improve its performance.\n",
                "\n",
                "5. **Normalization:** Normalize data to achieve a standard distribution. This is particularly important for algorithms that assume normally distributed data."
            ]
        },
        {
            "cell_type": "markdown",
            "metadata": {
                "id": "rVyVnA1hLfHd"
            },
            "source": [
                "### Notes on Preprocessing processes\n",
                "\n",
                "It is advised to create functions or classes that have the same/similar type of inputs and outputs, so you can add, remove, or swap the order of the processes easily. You can implement the functions or classes by yourself\n",
                "\n",
                "or\n",
                "\n",
                "use `sklearn` library. To create a new preprocessing component in `sklearn`, implement a corresponding class that includes:\n",
                "1. Inheritance to `BaseEstimator` and `TransformerMixin`\n",
                "2. The method `fit`\n",
                "3. The method `transform`"
            ]
        },
        {
            "cell_type": "markdown",
            "metadata": {
                "id": "WhCgOl4xLfHb"
            },
            "source": [
                "### I. Feature Scaling\n",
                "\n",
                "**Feature scaling** is a preprocessing technique used in machine learning to standardize the range of independent variables or features of data. The primary goal of feature scaling is to ensure that all features contribute equally to the training process and that machine learning algorithms can work effectively with the data.\n",
                "\n",
                "Here are the main reasons why feature scaling is important:\n",
                "\n",
                "1. **Algorithm Sensitivity:** Many machine learning algorithms are sensitive to the scale of input features. If the scales of features are significantly different, some algorithms may perform poorly or take much longer to converge.\n",
                "\n",
                "2. **Distance-Based Algorithms:** Algorithms that rely on distances or similarities between data points, such as k-nearest neighbors (KNN) and support vector machines (SVM), can be influenced by feature scales. Features with larger scales may dominate the distance calculations.\n",
                "\n",
                "3. **Regularization:** Regularization techniques, like L1 (Lasso) and L2 (Ridge) regularization, add penalty terms based on feature coefficients. Scaling ensures that all features are treated equally in the regularization process.\n",
                "\n",
                "Common methods for feature scaling include:\n",
                "\n",
                "1. **Min-Max Scaling (Normalization):** This method scales features to a specific range, typically [0, 1]. It's done using the following formula:\n",
                "\n",
                "   $$X' = \\frac{X - X_{min}}{X_{max} - X_{min}}$$\n",
                "\n",
                "   - Here, $X$ is the original feature value, $X_{min}$ is the minimum value of the feature, and $X_{max}$ is the maximum value of the feature.  \n",
                "<br />\n",
                "<br />\n",
                "2. **Standardization (Z-score Scaling):** This method scales features to have a mean (average) of 0 and a standard deviation of 1. It's done using the following formula:\n",
                "\n",
                "   $$X' = \\frac{X - \\mu}{\\sigma}$$\n",
                "\n",
                "   - $X$ is the original feature value, $\\mu$ is the mean of the feature, and $\\sigma$ is the standard deviation of the feature.  \n",
                "<br />\n",
                "<br />\n",
                "3. **Robust Scaling:** Robust scaling is a method that scales features to the interquartile range (IQR) and is less affected by outliers. It's calculated as:\n",
                "\n",
                "   $$X' = \\frac{X - Q1}{Q3 - Q1}$$\n",
                "\n",
                "   - $X$ is the original feature value, $Q1$ is the first quartile (25th percentile), and $Q3$ is the third quartile (75th percentile) of the feature.  \n",
                "<br />\n",
                "<br />\n",
                "4. **Log Transformation:** In cases where data is highly skewed or has a heavy-tailed distribution, taking the logarithm of the feature values can help stabilize the variance and improve scaling.\n",
                "\n",
                "The choice of scaling method depends on the characteristics of your data and the requirements of your machine learning algorithm. **Min-max scaling and standardization are the most commonly used techniques and work well for many datasets.**\n",
                "\n",
                "Scaling should be applied separately to each training and test set to prevent data leakage from the test set into the training set. Additionally, **some algorithms may not require feature scaling, particularly tree-based models.**"
            ]
        },
        {
            "cell_type": "code",
            "execution_count": 1769,
            "metadata": {
                "id": "COef9EbCLfHb"
            },
            "outputs": [],
            "source": [
                "class MinMaxScaler(BaseEstimator, TransformerMixin):\n",
                "    def __init__(self):\n",
                "        self.min_values = None\n",
                "        self.max_values = None\n",
                "\n",
                "    def fit(self, X, y=None):\n",
                "        X = pd.DataFrame(X)\n",
                "        numeric_columns = X.select_dtypes(include=['number'])\n",
                "        self.numeric_features = numeric_columns.columns[numeric_columns.nunique() > 2]\n",
                "        self.min_values = X[self.numeric_features].min()\n",
                "        self.max_values = X[self.numeric_features].max()\n",
                "        return self\n",
                "\n",
                "    def transform(self, X):\n",
                "        X = pd.DataFrame(X)\n",
                "        X[self.numeric_features] = (\n",
                "            (X[self.numeric_features] - self.min_values) /\n",
                "            (self.max_values - self.min_values).replace(0, 1)\n",
                "        )\n",
                "        return X\n",
                "    \n",
                "    def fit_transform(self, X, y=None):\n",
                "        self.fit(X, y)\n",
                "        return self.transform(X)"
            ]
        },
        {
            "cell_type": "markdown",
            "metadata": {
                "id": "f_Lh-4JwLfHc"
            },
            "source": [
                "### II. Feature Encoding\n",
                "\n",
                "**Feature encoding**, also known as **categorical encoding**, is the process of converting categorical data (non-numeric data) into a numerical format so that it can be used as input for machine learning algorithms. Most machine learning models require numerical data for training and prediction, so feature encoding is a critical step in data preprocessing.\n",
                "\n",
                "Categorical data can take various forms, including:\n",
                "\n",
                "1. **Nominal Data:** Categories with no intrinsic order, like colors or country names.  \n",
                "\n",
                "2. **Ordinal Data:** Categories with a meaningful order but not necessarily equidistant, like education levels (e.g., \"high school,\" \"bachelor's,\" \"master's\").\n",
                "\n",
                "There are several common methods for encoding categorical data:\n",
                "\n",
                "1. **Label Encoding:**\n",
                "\n",
                "   - Label encoding assigns a unique integer to each category in a feature.\n",
                "   - It's suitable for ordinal data where there's a clear order among categories.\n",
                "   - For example, if you have an \"education\" feature with values \"high school,\" \"bachelor's,\" and \"master's,\" you can encode them as 0, 1, and 2, respectively.\n",
                "<br />\n",
                "<br />\n",
                "2. **One-Hot Encoding:**\n",
                "\n",
                "   - One-hot encoding creates a binary (0 or 1) column for each category in a nominal feature.\n",
                "   - It's suitable for nominal data where there's no inherent order among categories.\n",
                "   - Each category becomes a new feature, and the presence (1) or absence (0) of a category is indicated for each row.\n",
                "<br />\n",
                "<br />\n",
                "3. **Target Encoding (Mean Encoding):**\n",
                "\n",
                "   - Target encoding replaces each category with the mean of the target variable for that category.\n",
                "   - It's often used for classification problems."
            ]
        },
        {
            "cell_type": "code",
            "execution_count": 1770,
            "metadata": {
                "id": "psElSUugLfHc"
            },
            "outputs": [],
            "source": [
                "class OneHotEncoder(BaseEstimator, TransformerMixin):\n",
                "    def __init__(self):\n",
                "        self.non_numeric_columns = {}\n",
                "\n",
                "    def fit(self, X, y=None):\n",
                "        df = pd.DataFrame(X)\n",
                "        df = df.apply(pd.to_numeric, errors='ignore')\n",
                "        non_numeric_columns = df.select_dtypes(exclude='number')\n",
                "        self.non_numeric_columns = non_numeric_columns.columns\n",
                "        \n",
                "        return self\n",
                "\n",
                "    def transform(self, X):\n",
                "        df = pd.DataFrame(X)\n",
                "        df_encoded = pd.get_dummies(df, columns=self.non_numeric_columns)\n",
                "\n",
                "        return df_encoded\n",
                "\n",
                "    def fit_transform(self, X, y):\n",
                "        self.fit(X, y)\n",
                "        return self.transform(X)"
            ]
        },
        {
            "cell_type": "markdown",
            "metadata": {},
            "source": [
                "### Feature Selection"
            ]
        },
        {
            "cell_type": "code",
            "execution_count": 1771,
            "metadata": {},
            "outputs": [],
            "source": [
                "from sklearn.base import BaseEstimator, TransformerMixin\n",
                "from sklearn.feature_selection import SelectFromModel\n",
                "from sklearn.ensemble import RandomForestClassifier\n",
                "from sklearn.preprocessing import LabelEncoder\n",
                "import pandas as pd\n",
                "\n",
                "class FeatureSelector(BaseEstimator, TransformerMixin):\n",
                "    def __init__(self, estimator=None):\n",
                "        self.estimator = estimator if estimator else RandomForestClassifier(n_estimators=100)\n",
                "        self.selector = SelectFromModel(self.estimator)\n",
                "        self.label_encoder = LabelEncoder()\n",
                "\n",
                "    def fit(self, X, y):\n",
                "        if y.dtype == 'object':\n",
                "            y = self.label_encoder.fit_transform(y)\n",
                "        \n",
                "        self.selector.fit(X, y)\n",
                "        return self\n",
                "\n",
                "    def transform(self, X):\n",
                "        X_selected_array = self.selector.transform(X)\n",
                "        selected_features = X.columns[self.selector.get_support()]\n",
                "        X_selected = pd.DataFrame(X_selected_array, columns=selected_features, index=X.index)\n",
                "        return X_selected\n",
                "\n",
                "    def fit_transform(self, X, y):\n",
                "        self.fit(X, y)\n",
                "        return self.transform(X)"
            ]
        },
        {
            "cell_type": "markdown",
            "metadata": {
                "id": "jKQO9wtB8Pc0"
            },
            "source": [
                "### III. Handling Imbalanced Dataset\n",
                "\n",
                "**Handling imbalanced datasets** is important because imbalanced data can lead to several issues that negatively impact the performance and reliability of machine learning models. Here are some key reasons:\n",
                "\n",
                "1. **Biased Model Performance**:\n",
                "\n",
                " - Models trained on imbalanced data tend to be biased towards the majority class, leading to poor performance on the minority class. This can result in misleading accuracy metrics.\n",
                "\n",
                "2. **Misleading Accuracy**:\n",
                "\n",
                " - High overall accuracy can be misleading in imbalanced datasets. For example, if 95% of the data belongs to one class, a model that always predicts the majority class will have 95% accuracy but will fail to identify the minority class.\n",
                "\n",
                "3. **Poor Generalization**:\n",
                "\n",
                " - Models trained on imbalanced data may not generalize well to new, unseen data, especially if the minority class is underrepresented.\n",
                "\n",
                "\n",
                "Some methods to handle imbalanced datasets:\n",
                "1. **Resampling Methods**:\n",
                "\n",
                " - Oversampling: Increase the number of instances in the minority class by duplicating or generating synthetic samples (e.g., SMOTE).\n",
                " - Undersampling: Reduce the number of instances in the majority class to balance the dataset.\n",
                "\n",
                "2. **Evaluation Metrics**:\n",
                "\n",
                " - Use appropriate evaluation metrics such as precision, recall, F1-score, ROC-AUC, and confusion matrix instead of accuracy to better assess model performance on imbalanced data.\n",
                "\n",
                "3. **Algorithmic Approaches**:\n",
                "\n",
                " - Use algorithms that are designed to handle imbalanced data, such as decision trees, random forests, or ensemble methods.\n",
                " - Adjust class weights in algorithms to give more importance to the minority class."
            ]
        },
        {
            "cell_type": "code",
            "execution_count": 1772,
            "metadata": {
                "id": "u2BQd2XJ9W1i"
            },
            "outputs": [],
            "source": [
                "class Undersampler(BaseEstimator, TransformerMixin):\n",
                "    def __init__(self):\n",
                "        self.undersampler = RandomUnderSampler(random_state=42)\n",
                "        self.y_resampled = None\n",
                "\n",
                "    def fit(self, X, y):\n",
                "        _, self.y_resampled = self.undersampler.fit_resample(X, y)\n",
                "        return self\n",
                "\n",
                "    def transform(self, X):\n",
                "        X_resampled, y_resampled = self.undersampler.fit_resample(X, self.y_resampled)\n",
                "        return X_resampled, y_resampled"
            ]
        },
        {
            "cell_type": "markdown",
            "metadata": {
                "id": "fTMSyUzf_-HQ"
            },
            "source": [
                "### IV. Data Normalization\n",
                "\n",
                "Data normalization is used to achieve a standard distribution. Without normalization, models or processes that rely on the assumption of normality may not work correctly. Normalization helps reduce the magnitude effect and ensures numerical stability during optimization."
            ]
        },
        {
            "cell_type": "code",
            "execution_count": 1773,
            "metadata": {
                "id": "HLOWHftjF1JU"
            },
            "outputs": [],
            "source": [
                "class DataNormalizer(BaseEstimator, TransformerMixin):\n",
                "    def __init__(self):\n",
                "        self.transformer = QuantileTransformer(output_distribution='normal')\n",
                "        self.selected_columns = None\n",
                "\n",
                "    def fit(self, X, y=None):\n",
                "        numeric_columns = X.select_dtypes(include='number')\n",
                "        binary_columns = numeric_columns.columns[(numeric_columns.nunique() == 2)]\n",
                "        self.selected_columns = numeric_columns.drop(columns=binary_columns).columns\n",
                "        X[self.selected_columns] = X[self.selected_columns] + 1e-6\n",
                "        self.transformer.fit(X[self.selected_columns])\n",
                "        return self\n",
                "\n",
                "    def transform(self, X):\n",
                "        X = pd.DataFrame(X).copy()\n",
                "        X[self.selected_columns] = self.transformer.transform(X[self.selected_columns])\n",
                "        \n",
                "        for col in X.select_dtypes(include=['object']).columns:\n",
                "            X[col] = pd.to_numeric(X[col], errors='coerce')\n",
                "        \n",
                "        for col in X.select_dtypes(include=['int64', 'float64']).columns:\n",
                "            if X[col].isin([0, 1]).all():\n",
                "                X[col] = X[col].astype(bool)\n",
                "        \n",
                "        return X\n",
                "    \n",
                "    def fit_transform(self, X, y):\n",
                "        self.fit(X, y)\n",
                "        return self.transform(X)"
            ]
        },
        {
            "cell_type": "markdown",
            "metadata": {
                "id": "MSZPZSntF3Kb"
            },
            "source": [
                "### V. Dimensionality Reduction\n",
                "\n",
                "Dimensionality reduction is a technique used in data preprocessing to reduce the number of input features (dimensions) in a dataset while retaining as much important information as possible. It is essential when dealing with high-dimensional data, where too many features can cause problems like increased computational costs, overfitting, and difficulty in visualization. Reducing dimensions simplifies the data, making it easier to analyze and improving the performance of machine learning models.\n",
                "\n",
                "One of the main approaches to dimensionality reduction is feature extraction. Feature extraction creates new, smaller sets of features that capture the essence of the original data. Common techniques include:\n",
                "\n",
                "1. **Principal Component Analysis (PCA)**: Converts correlated features into a smaller number of uncorrelated \"principal components.\"\n",
                "2. **t-SNE (t-Distributed Stochastic Neighbor Embedding)**: A visualization-focused method to project high-dimensional data into 2D or 3D spaces.\n",
                "3. **Autoencoders**: Neural networks that learn compressed representations of the data."
            ]
        },
        {
            "cell_type": "code",
            "execution_count": 1774,
            "metadata": {
                "id": "5rksSMAWICY_"
            },
            "outputs": [],
            "source": [
                "class DimensionalityReducer(BaseEstimator, TransformerMixin):\n",
                "    def __init__(self):\n",
                "        self.pca = PCA(n_components=2)\n",
                "\n",
                "    def fit(self, X, y=None):\n",
                "        numeric_columns = X.select_dtypes(include='number')\n",
                "        binary_columns = numeric_columns.columns[(numeric_columns.nunique() == 2)]\n",
                "        self.selected_columns = numeric_columns.drop(columns=binary_columns)\n",
                "        \n",
                "        return self\n",
                "\n",
                "    def transform(self, X):\n",
                "        df = pd.DataFrame(X)\n",
                "        df = df.dropna()\n",
                "        result = self.pca.fit_transform(df[self.selected_columns.columns])\n",
                "        result_df = pd.DataFrame(result, columns=[f'PC{i+1}' for i in range(result.shape[1])], index=df.index)\n",
                "        non_numeric_columns = df.drop(columns=self.selected_columns)\n",
                "        result_df = pd.concat([non_numeric_columns, result_df], axis=1)\n",
                "\n",
                "        return result_df\n",
                "    \n",
                "    def fit_transform(self, X, y):\n",
                "        self.fit(X, y)\n",
                "        return self.transform(X)"
            ]
        },
        {
            "cell_type": "markdown",
            "metadata": {
                "id": "-ctVzt5DLfHd"
            },
            "source": [
                "# 3. Compile Preprocessing Pipeline\n",
                "\n",
                "All of the preprocessing classes or functions defined earlier will be compiled in this step."
            ]
        },
        {
            "cell_type": "markdown",
            "metadata": {
                "id": "S_ZlncSVjJG6"
            },
            "source": [
                "If you use sklearn to create preprocessing classes, you can list your preprocessing classes in the Pipeline object sequentially, and then fit and transform your data."
            ]
        },
        {
            "cell_type": "code",
            "execution_count": 1775,
            "metadata": {
                "id": "jHraoW_7LfHd"
            },
            "outputs": [],
            "source": [
                "from sklearn.pipeline import Pipeline\n",
                "\n",
                "# Pipeline for data preprocessing\n",
                "pipe = Pipeline([(\"scaler\", MinMaxScaler()),\n",
                "                 (\"encoder\", OneHotEncoder()),\n",
                "                 (\"normalizer\", DataNormalizer()),\n",
                "                 (\"reductor\", DimensionalityReducer())])"
            ]
        },
        {
            "cell_type": "code",
            "execution_count": 1776,
            "metadata": {
                "id": "9s56aFFxLfHd"
            },
            "outputs": [
                {
                    "name": "stderr",
                    "output_type": "stream",
                    "text": [
                        "C:\\Users\\irvan\\AppData\\Local\\Temp\\ipykernel_21204\\1243549885.py:7: FutureWarning: errors='ignore' is deprecated and will raise in a future version. Use to_numeric without passing `errors` and catch exceptions explicitly instead\n",
                        "  df = df.apply(pd.to_numeric, errors='ignore')\n",
                        "C:\\Users\\irvan\\AppData\\Local\\Temp\\ipykernel_21204\\1243549885.py:7: FutureWarning: errors='ignore' is deprecated and will raise in a future version. Use to_numeric without passing `errors` and catch exceptions explicitly instead\n",
                        "  df = df.apply(pd.to_numeric, errors='ignore')\n",
                        "c:\\Users\\irvan\\AppData\\Local\\Programs\\Python\\Python312\\Lib\\site-packages\\sklearn\\preprocessing\\_data.py:2785: UserWarning: n_quantiles (1000) is greater than the total number of samples (280). n_quantiles is set to n_samples.\n",
                        "  warnings.warn(\n"
                    ]
                },
                {
                    "data": {
                        "text/html": [
                            "<div>\n",
                            "<style scoped>\n",
                            "    .dataframe tbody tr th:only-of-type {\n",
                            "        vertical-align: middle;\n",
                            "    }\n",
                            "\n",
                            "    .dataframe tbody tr th {\n",
                            "        vertical-align: top;\n",
                            "    }\n",
                            "\n",
                            "    .dataframe thead th {\n",
                            "        text-align: right;\n",
                            "    }\n",
                            "</style>\n",
                            "<table border=\"1\" class=\"dataframe\">\n",
                            "  <thead>\n",
                            "    <tr style=\"text-align: right;\">\n",
                            "      <th></th>\n",
                            "      <th>is_sm_ips_ports</th>\n",
                            "      <th>is_ftp_login</th>\n",
                            "      <th>label</th>\n",
                            "      <th>swin</th>\n",
                            "      <th>dwin</th>\n",
                            "      <th>proto_aes-sp3-d</th>\n",
                            "      <th>proto_any</th>\n",
                            "      <th>proto_arp</th>\n",
                            "      <th>proto_br-sat-mon</th>\n",
                            "      <th>proto_cftp</th>\n",
                            "      <th>...</th>\n",
                            "      <th>service_dns</th>\n",
                            "      <th>service_ftp</th>\n",
                            "      <th>service_ftp-data</th>\n",
                            "      <th>service_http</th>\n",
                            "      <th>service_pop3</th>\n",
                            "      <th>service_smtp</th>\n",
                            "      <th>service_ssh</th>\n",
                            "      <th>PC1</th>\n",
                            "      <th>PC2</th>\n",
                            "      <th>attack_cat</th>\n",
                            "    </tr>\n",
                            "  </thead>\n",
                            "  <tbody>\n",
                            "    <tr>\n",
                            "      <th>0</th>\n",
                            "      <td>0.0</td>\n",
                            "      <td>0.0</td>\n",
                            "      <td>0</td>\n",
                            "      <td>255.0</td>\n",
                            "      <td>255.0</td>\n",
                            "      <td>False</td>\n",
                            "      <td>False</td>\n",
                            "      <td>False</td>\n",
                            "      <td>False</td>\n",
                            "      <td>False</td>\n",
                            "      <td>...</td>\n",
                            "      <td>False</td>\n",
                            "      <td>False</td>\n",
                            "      <td>False</td>\n",
                            "      <td>False</td>\n",
                            "      <td>False</td>\n",
                            "      <td>False</td>\n",
                            "      <td>False</td>\n",
                            "      <td>12.841710</td>\n",
                            "      <td>-0.401048</td>\n",
                            "      <td>Analysis</td>\n",
                            "    </tr>\n",
                            "    <tr>\n",
                            "      <th>1</th>\n",
                            "      <td>0.0</td>\n",
                            "      <td>0.0</td>\n",
                            "      <td>1</td>\n",
                            "      <td>0.0</td>\n",
                            "      <td>0.0</td>\n",
                            "      <td>False</td>\n",
                            "      <td>False</td>\n",
                            "      <td>False</td>\n",
                            "      <td>False</td>\n",
                            "      <td>False</td>\n",
                            "      <td>...</td>\n",
                            "      <td>False</td>\n",
                            "      <td>False</td>\n",
                            "      <td>False</td>\n",
                            "      <td>False</td>\n",
                            "      <td>False</td>\n",
                            "      <td>False</td>\n",
                            "      <td>False</td>\n",
                            "      <td>-8.714159</td>\n",
                            "      <td>-3.815737</td>\n",
                            "      <td>Analysis</td>\n",
                            "    </tr>\n",
                            "    <tr>\n",
                            "      <th>2</th>\n",
                            "      <td>0.0</td>\n",
                            "      <td>0.0</td>\n",
                            "      <td>1</td>\n",
                            "      <td>0.0</td>\n",
                            "      <td>0.0</td>\n",
                            "      <td>False</td>\n",
                            "      <td>False</td>\n",
                            "      <td>False</td>\n",
                            "      <td>False</td>\n",
                            "      <td>False</td>\n",
                            "      <td>...</td>\n",
                            "      <td>True</td>\n",
                            "      <td>False</td>\n",
                            "      <td>False</td>\n",
                            "      <td>False</td>\n",
                            "      <td>False</td>\n",
                            "      <td>False</td>\n",
                            "      <td>False</td>\n",
                            "      <td>-10.828070</td>\n",
                            "      <td>-0.871104</td>\n",
                            "      <td>Analysis</td>\n",
                            "    </tr>\n",
                            "    <tr>\n",
                            "      <th>3</th>\n",
                            "      <td>0.0</td>\n",
                            "      <td>0.0</td>\n",
                            "      <td>1</td>\n",
                            "      <td>0.0</td>\n",
                            "      <td>0.0</td>\n",
                            "      <td>False</td>\n",
                            "      <td>False</td>\n",
                            "      <td>False</td>\n",
                            "      <td>False</td>\n",
                            "      <td>False</td>\n",
                            "      <td>...</td>\n",
                            "      <td>True</td>\n",
                            "      <td>False</td>\n",
                            "      <td>False</td>\n",
                            "      <td>False</td>\n",
                            "      <td>False</td>\n",
                            "      <td>False</td>\n",
                            "      <td>False</td>\n",
                            "      <td>-12.069625</td>\n",
                            "      <td>2.948029</td>\n",
                            "      <td>Analysis</td>\n",
                            "    </tr>\n",
                            "    <tr>\n",
                            "      <th>4</th>\n",
                            "      <td>0.0</td>\n",
                            "      <td>0.0</td>\n",
                            "      <td>1</td>\n",
                            "      <td>255.0</td>\n",
                            "      <td>255.0</td>\n",
                            "      <td>False</td>\n",
                            "      <td>False</td>\n",
                            "      <td>False</td>\n",
                            "      <td>False</td>\n",
                            "      <td>False</td>\n",
                            "      <td>...</td>\n",
                            "      <td>False</td>\n",
                            "      <td>False</td>\n",
                            "      <td>False</td>\n",
                            "      <td>True</td>\n",
                            "      <td>False</td>\n",
                            "      <td>False</td>\n",
                            "      <td>False</td>\n",
                            "      <td>5.271891</td>\n",
                            "      <td>7.377483</td>\n",
                            "      <td>Analysis</td>\n",
                            "    </tr>\n",
                            "  </tbody>\n",
                            "</table>\n",
                            "<p>5 rows × 80 columns</p>\n",
                            "</div>"
                        ],
                        "text/plain": [
                            "   is_sm_ips_ports  is_ftp_login  label   swin   dwin  proto_aes-sp3-d  \\\n",
                            "0              0.0           0.0      0  255.0  255.0            False   \n",
                            "1              0.0           0.0      1    0.0    0.0            False   \n",
                            "2              0.0           0.0      1    0.0    0.0            False   \n",
                            "3              0.0           0.0      1    0.0    0.0            False   \n",
                            "4              0.0           0.0      1  255.0  255.0            False   \n",
                            "\n",
                            "   proto_any  proto_arp  proto_br-sat-mon  proto_cftp  ...  service_dns  \\\n",
                            "0      False      False             False       False  ...        False   \n",
                            "1      False      False             False       False  ...        False   \n",
                            "2      False      False             False       False  ...         True   \n",
                            "3      False      False             False       False  ...         True   \n",
                            "4      False      False             False       False  ...        False   \n",
                            "\n",
                            "   service_ftp  service_ftp-data  service_http  service_pop3  service_smtp  \\\n",
                            "0        False             False         False         False         False   \n",
                            "1        False             False         False         False         False   \n",
                            "2        False             False         False         False         False   \n",
                            "3        False             False         False         False         False   \n",
                            "4        False             False          True         False         False   \n",
                            "\n",
                            "   service_ssh        PC1       PC2  attack_cat  \n",
                            "0        False  12.841710 -0.401048    Analysis  \n",
                            "1        False  -8.714159 -3.815737    Analysis  \n",
                            "2        False -10.828070 -0.871104    Analysis  \n",
                            "3        False -12.069625  2.948029    Analysis  \n",
                            "4        False   5.271891  7.377483    Analysis  \n",
                            "\n",
                            "[5 rows x 80 columns]"
                        ]
                    },
                    "execution_count": 1776,
                    "metadata": {},
                    "output_type": "execute_result"
                }
            ],
            "source": [
                "x_train = train_set.drop('attack_cat', axis=1)\n",
                "y_train = train_set['attack_cat']\n",
                "\n",
                "x_val = val_set.drop('attack_cat', axis=1)\n",
                "y_val = val_set['attack_cat']\n",
                "\n",
                "sampler = Undersampler()\n",
                "x_train, y_train = sampler.fit_transform(x_train, y_train)\n",
                "x_val, y_val = sampler.fit_transform(x_val, y_val)\n",
                "\n",
                "x_train_processed = pipe.fit(x_train, y_train).transform(x_train)\n",
                "x_val_processed = pipe.fit(x_val, y_val).transform(x_val)\n",
                "\n",
                "y_train_processed = y_train\n",
                "y_val_processed = y_val\n",
                "\n",
                "# Hasil akhir preprocessing\n",
                "\n",
                "train_set = pd.concat([x_train_processed, y_train_processed], axis=1)\n",
                "val_set = pd.concat([x_val_processed, y_val_processed], axis=1)\n",
                "\n",
                "missing_data_train = train_set[train_set.isnull().any(axis=1)]\n",
                "missing_data_val = val_set[val_set.isnull().any(axis=1)]\n",
                "\n",
                "train_set.head()"
            ]
        },
        {
            "cell_type": "code",
            "execution_count": 1777,
            "metadata": {},
            "outputs": [
                {
                    "name": "stdout",
                    "output_type": "stream",
                    "text": [
                        "Hasil kolom train_set yang terpilih: Index(['label', 'PC1', 'PC2', 'attack_cat'], dtype='object')\n",
                        "Hasil kolom val_set yang terpilih: Index(['label', 'PC1', 'PC2', 'attack_cat'], dtype='object')\n"
                    ]
                }
            ],
            "source": [
                "x_train = train_set.drop('attack_cat', axis=1)\n",
                "y_train = train_set['attack_cat']\n",
                "\n",
                "x_val = val_set.drop('attack_cat', axis=1)\n",
                "y_val = val_set['attack_cat']\n",
                "\n",
                "selector = FeatureSelector()\n",
                "\n",
                "x_train_processed = selector.fit(x_train, y_train).transform(x_train)\n",
                "x_val_processed = selector.fit(x_val, y_val).transform(x_val)\n",
                "\n",
                "# Hasil akhir Feature Selection\n",
                "train_set = pd.concat([x_train_processed, y_train_processed], axis=1)\n",
                "val_set = pd.concat([x_val_processed, y_val_processed], axis=1)\n",
                "\n",
                "print(f\"Hasil kolom train_set yang terpilih: {train_set.columns}\")\n",
                "print(f\"Hasil kolom val_set yang terpilih: {train_set.columns}\")"
            ]
        },
        {
            "cell_type": "code",
            "execution_count": 1778,
            "metadata": {},
            "outputs": [
                {
                    "name": "stdout",
                    "output_type": "stream",
                    "text": [
                        "      label        PC1       PC2\n",
                        "0       0.0  12.841710 -0.401048\n",
                        "1       1.0  -8.714159 -3.815737\n",
                        "2       1.0 -10.828070 -0.871104\n",
                        "3       1.0 -12.069625  2.948029\n",
                        "4       1.0   5.271891  7.377483\n",
                        "...     ...        ...       ...\n",
                        "1010    1.0   9.053380 -7.250072\n",
                        "1020    1.0  10.856322 -3.951538\n",
                        "1009    1.0   5.614910 -8.451905\n",
                        "991     0.0   6.890463  8.751084\n",
                        "1053    1.0   7.506988 -7.437839\n",
                        "\n",
                        "[1020 rows x 3 columns]\n"
                    ]
                }
            ],
            "source": [
                "print(x_train_processed)"
            ]
        },
        {
            "cell_type": "markdown",
            "metadata": {
                "id": "9A3adbZXLfHe"
            },
            "source": [
                "# 4. Modeling and Validation\n",
                "\n",
                "Modelling is the process of building your own machine learning models to solve specific problems, or in this assignment context, predicting the target feature `attack_cat`. Validation is the process of evaluating your trained model using the validation set or cross-validation method and providing some metrics that can help you decide what to do in the next iteration of development."
            ]
        },
        {
            "cell_type": "markdown",
            "metadata": {
                "id": "ZnhMNbBILfHf"
            },
            "source": [
                "## A. KNN"
            ]
        },
        {
            "cell_type": "markdown",
            "metadata": {},
            "source": [
                "Ubah kolom dengan dtype _object_ menjadi float."
            ]
        },
        {
            "cell_type": "code",
            "execution_count": 1779,
            "metadata": {},
            "outputs": [
                {
                    "name": "stdout",
                    "output_type": "stream",
                    "text": [
                        "Test input:    label        PC1       PC2 attack_cat\n",
                        "0    0.0  12.841710 -0.401048   Analysis\n",
                        "1    1.0  -8.714159 -3.815737   Analysis\n",
                        "2    1.0 -10.828070 -0.871104   Analysis\n",
                        "3    1.0 -12.069625  2.948029   Analysis\n",
                        "4    1.0   5.271891  7.377483   Analysis\n",
                        "5    1.0 -12.253926  4.214388   Analysis\n",
                        "6    1.0  12.655175 -6.011861   Analysis\n",
                        "7    1.0   9.200599 -6.433403   Analysis\n",
                        "8    0.0  12.525325  3.793069   Analysis\n",
                        "9    0.0  10.988831 -1.209004   Analysis\n",
                        "   label        PC1       PC2\n",
                        "0    0.0  12.841710 -0.401048\n",
                        "1    1.0  -8.714159 -3.815737\n",
                        "2    1.0 -10.828070 -0.871104\n",
                        "3    1.0 -12.069625  2.948029\n",
                        "4    1.0   5.271891  7.377483\n",
                        "5    1.0 -12.253926  4.214388\n",
                        "6    1.0  12.655175 -6.011861\n",
                        "7    1.0   9.200599 -6.433403\n",
                        "8    0.0  12.525325  3.793069\n",
                        "9    0.0  10.988831 -1.209004\n"
                    ]
                }
            ],
            "source": [
                "train_set_numeric = train_set.copy()\n",
                "\n",
                "train_set_X = train_set_numeric.loc[:, train_set_numeric.columns != \"attack_cat\"]\n",
                "train_set_y = train_set_numeric[\"attack_cat\"]\n",
                "\n",
                "test_input = train_set_numeric.iloc[0:10].copy()\n",
                "print(f\"Test input: {test_input}\")\n",
                "\n",
                "test_input = test_input.drop(columns = [\"attack_cat\"])\n",
                "\n",
                "print(test_input)"
            ]
        },
        {
            "cell_type": "markdown",
            "metadata": {},
            "source": [
                "KNN from scratch"
            ]
        },
        {
            "cell_type": "code",
            "execution_count": 1780,
            "metadata": {
                "id": "KV6ICmFmlqjk"
            },
            "outputs": [
                {
                    "name": "stdout",
                    "output_type": "stream",
                    "text": [
                        "['Analysis', 'Analysis', 'Analysis', 'Analysis', 'Shellcode', 'Generic', 'Normal', 'Analysis', 'Analysis', 'Normal']\n"
                    ]
                }
            ],
            "source": [
                "scratchKNN = KNN(10)\n",
                "scratchKNN.fit(x_train_processed, y_train_processed)\n",
                "\n",
                "print(scratchKNN.predict(test_input))"
            ]
        },
        {
            "cell_type": "markdown",
            "metadata": {},
            "source": [
                "KNN scikit-learn"
            ]
        },
        {
            "cell_type": "code",
            "execution_count": 1781,
            "metadata": {},
            "outputs": [
                {
                    "name": "stdout",
                    "output_type": "stream",
                    "text": [
                        "['Analysis' 'Analysis' 'Analysis' 'Analysis' 'Analysis' 'Generic'\n",
                        " 'Backdoor' 'Analysis' 'Analysis' 'Normal']\n"
                    ]
                }
            ],
            "source": [
                "scikitKNN = KNeighborsClassifier(n_neighbors = 10)\n",
                "scikitKNN.fit(x_train_processed, y_train_processed)\n",
                "\n",
                "print(scikitKNN.predict(test_input))"
            ]
        },
        {
            "cell_type": "markdown",
            "metadata": {},
            "source": [
                "Validasi menggunakan k-fold cross validation"
            ]
        },
        {
            "cell_type": "code",
            "execution_count": 1782,
            "metadata": {},
            "outputs": [
                {
                    "name": "stdout",
                    "output_type": "stream",
                    "text": [
                        "KNN scratch:\n",
                        "  Mean Accuracy: 0.0929\n",
                        "  Mean F1 Score: 0.0891\n",
                        "--------------------------------------------------------\n",
                        "KNN scikit:\n",
                        "  Mean Accuracy: 0.0714\n",
                        "  Mean F1 Score: 0.0661\n"
                    ]
                }
            ],
            "source": [
                "kf = KFold(n_splits = 5, shuffle = True, random_state = 42)\n",
                "\n",
                "scores_scratch_accuracy = cross_val_score(scratchKNN, x_val_processed, y_val_processed, cv = kf, scoring = \"accuracy\")\n",
                "scores_scikit_accuracy = cross_val_score(scikitKNN, x_val_processed, y_val_processed, cv = kf, scoring = \"accuracy\")\n",
                "\n",
                "scores_scratch_f1 = cross_val_score(scratchKNN, x_val_processed, y_val_processed, cv = kf, scoring = \"f1_weighted\")\n",
                "scores_scikit_f1 = cross_val_score(scikitKNN, x_val_processed, y_val_processed, cv = kf, scoring = \"f1_weighted\")\n",
                "\n",
                "print(\"KNN scratch:\")\n",
                "print(f\"  Mean Accuracy: {scores_scratch_accuracy.mean():.4f}\")\n",
                "print(f\"  Mean F1 Score: {scores_scratch_f1.mean():.4f}\")\n",
                "print(\"--------------------------------------------------------\")\n",
                "print(\"KNN scikit:\")\n",
                "print(f\"  Mean Accuracy: {scores_scikit_accuracy.mean():.4f}\")\n",
                "print(f\"  Mean F1 Score: {scores_scikit_f1.mean():.4f}\")"
            ]
        },
        {
            "cell_type": "markdown",
            "metadata": {},
            "source": [
                "## B. Naive Bayes"
            ]
        },
        {
            "cell_type": "markdown",
            "metadata": {},
            "source": [
                "### Naive Bayes From Scratch"
            ]
        },
        {
            "cell_type": "code",
            "execution_count": 1783,
            "metadata": {},
            "outputs": [
                {
                    "name": "stdout",
                    "output_type": "stream",
                    "text": [
                        "MEAN\n",
                        "label\n",
                        "    Analysis: 0.6568627450980392\n",
                        "    Backdoor: 0.5588235294117647\n",
                        "    DoS: 0.6862745098039216\n",
                        "    Exploits: 0.5882352941176471\n",
                        "    Fuzzers: 0.6568627450980392\n",
                        "    Generic: 0.696078431372549\n",
                        "    Normal: 0.6764705882352942\n",
                        "    Reconnaissance: 0.6176470588235294\n",
                        "    Shellcode: 0.696078431372549\n",
                        "    Worms: 0.6470588235294118\n",
                        "PC1\n",
                        "    Analysis: -0.2186873084152944\n",
                        "    Backdoor: 0.2769072814144496\n",
                        "    DoS: -0.020543468578057084\n",
                        "    Exploits: -0.20528388927193914\n",
                        "    Fuzzers: -0.06375170966234027\n",
                        "    Generic: -2.01681879548762\n",
                        "    Normal: 0.27269462250397225\n",
                        "    Reconnaissance: 0.4545192941013385\n",
                        "    Shellcode: -0.7664640270478664\n",
                        "    Worms: 2.2874280004433545\n",
                        "PC2\n",
                        "    Analysis: 0.10574727023241677\n",
                        "    Backdoor: 0.5388841785601965\n",
                        "    DoS: -0.2698839363324706\n",
                        "    Exploits: 0.41078698206431025\n",
                        "    Fuzzers: -0.029622702898913163\n",
                        "    Generic: -0.04010400221455159\n",
                        "    Normal: -0.12468068653527542\n",
                        "    Reconnaissance: -0.4295773651301254\n",
                        "    Shellcode: 0.04333992321082872\n",
                        "    Worms: -0.20488966095642033\n",
                        "\n",
                        "STANDARD DEVIATION\n",
                        "label\n",
                        "    Analysis: 0.4747568632471864\n",
                        "    Backdoor: 0.4965277357686509\n",
                        "    DoS: 0.46400625749800917\n",
                        "    Exploits: 0.4921529567847504\n",
                        "    Fuzzers: 0.47475686324718636\n",
                        "    Generic: 0.45994918061725104\n",
                        "    Normal: 0.467822756487849\n",
                        "    Reconnaissance: 0.4859621071134796\n",
                        "    Shellcode: 0.4599491806172511\n",
                        "    Worms: 0.4778846120374095\n",
                        "PC1\n",
                        "    Analysis: 9.871833865559347\n",
                        "    Backdoor: 9.552286315511344\n",
                        "    DoS: 10.045912839727166\n",
                        "    Exploits: 9.37138928106337\n",
                        "    Fuzzers: 9.48230955696782\n",
                        "    Generic: 9.54782829972673\n",
                        "    Normal: 10.14941049664664\n",
                        "    Reconnaissance: 9.755240699966906\n",
                        "    Shellcode: 9.884208131355077\n",
                        "    Worms: 9.456111543715059\n",
                        "PC2\n",
                        "    Analysis: 3.760767628361243\n",
                        "    Backdoor: 3.9578467008761997\n",
                        "    DoS: 3.421075603274391\n",
                        "    Exploits: 4.172492395668669\n",
                        "    Fuzzers: 3.9596334949862646\n",
                        "    Generic: 3.9238004303246075\n",
                        "    Normal: 4.313100795812783\n",
                        "    Reconnaissance: 3.829654737964203\n",
                        "    Shellcode: 4.06747176695445\n",
                        "    Worms: 4.451474472470276\n",
                        "FREQUENCY\n",
                        "target:\n",
                        "    Analysis : 102\n",
                        "    Backdoor : 102\n",
                        "    DoS : 102\n",
                        "    Exploits : 102\n",
                        "    Fuzzers : 102\n",
                        "    Generic : 102\n",
                        "    Normal : 102\n",
                        "    Reconnaissance : 102\n",
                        "    Shellcode : 102\n",
                        "    Worms : 102\n",
                        "\n",
                        "PROBABILITY\n",
                        "target:\n",
                        "    Analysis : 0.1\n",
                        "    Backdoor : 0.1\n",
                        "    DoS : 0.1\n",
                        "    Exploits : 0.1\n",
                        "    Fuzzers : 0.1\n",
                        "    Generic : 0.1\n",
                        "    Normal : 0.1\n",
                        "    Reconnaissance : 0.1\n",
                        "    Shellcode : 0.1\n",
                        "    Worms : 0.1\n"
                    ]
                }
            ],
            "source": [
                "# Train Model\n",
                "from gaussian_naive_bayes import NaiveBayes\n",
                "\n",
                "train_X = x_train_processed.copy().astype({'PC1': float, 'PC2': float})\n",
                "train_set_y = y_train_processed\n",
                "\n",
                "scratchNB = NaiveBayes()\n",
                "scratchNB.fit(train_X, train_set_y)\n",
                "\n",
                "scratchNB.printNumericModel()\n",
                "scratchNB.printCategoricalModel()"
            ]
        },
        {
            "cell_type": "code",
            "execution_count": 1784,
            "metadata": {},
            "outputs": [
                {
                    "name": "stdout",
                    "output_type": "stream",
                    "text": [
                        "Test input: label              1.0\n",
                        "PC1          -8.714159\n",
                        "PC2          -3.815737\n",
                        "attack_cat    Analysis\n",
                        "Name: 1, dtype: object\n",
                        "['Backdoor', 'Generic', 'Generic', 'Generic', 'Worms', 'Generic', 'Worms', 'Worms', 'Backdoor', 'Backdoor', 'Reconnaissance', 'Worms', 'Backdoor', 'Backdoor', 'Backdoor', 'DoS', 'Reconnaissance', 'Worms', 'Generic', 'Generic', 'Generic', 'Worms', 'Normal', 'Backdoor', 'Backdoor', 'Reconnaissance', 'DoS', 'Worms', 'Generic', 'Generic', 'Reconnaissance', 'Generic', 'Generic', 'Generic', 'DoS', 'Reconnaissance', 'Backdoor', 'Generic', 'DoS', 'Generic', 'Generic', 'Generic', 'Backdoor', 'Backdoor', 'Generic', 'Reconnaissance', 'DoS', 'DoS', 'Backdoor', 'Backdoor', 'Worms', 'Backdoor', 'Generic', 'Backdoor', 'DoS', 'Generic', 'Worms', 'Generic', 'Generic', 'Worms', 'Backdoor', 'Generic', 'Worms', 'Generic', 'Generic', 'Backdoor', 'Worms', 'Backdoor', 'Generic', 'Backdoor', 'Worms', 'Generic', 'Backdoor', 'Backdoor', 'Backdoor', 'Reconnaissance', 'DoS', 'Generic', 'Exploits', 'Generic', 'Generic', 'DoS', 'Generic', 'Backdoor', 'Worms', 'Worms', 'Worms', 'Backdoor', 'Reconnaissance', 'Generic', 'Backdoor', 'Backdoor', 'Worms', 'Generic', 'Worms', 'Generic', 'Generic', 'Generic', 'Generic', 'DoS', 'Generic', 'Generic', 'Generic', 'Reconnaissance', 'Generic', 'Generic', 'Generic', 'Backdoor', 'Worms', 'Backdoor', 'Backdoor', 'Backdoor', 'Generic', 'Worms', 'Backdoor', 'Backdoor', 'Worms', 'Backdoor', 'Normal', 'DoS', 'Backdoor', 'DoS', 'Generic', 'Normal', 'Backdoor', 'Worms', 'Reconnaissance', 'Generic', 'DoS', 'Generic', 'Backdoor', 'DoS', 'Generic', 'Generic', 'Worms', 'Worms', 'Generic', 'Generic', 'Backdoor', 'Backdoor', 'Generic', 'Generic', 'Generic', 'Generic', 'Generic', 'Worms', 'Backdoor', 'Generic', 'Backdoor', 'Backdoor', 'Worms', 'Backdoor', 'Generic', 'Worms', 'Backdoor', 'Generic', 'Backdoor', 'Backdoor', 'Backdoor', 'Generic', 'Backdoor', 'Backdoor', 'Exploits', 'Reconnaissance', 'Backdoor', 'Generic', 'Worms', 'Backdoor', 'Backdoor', 'Generic', 'Normal', 'Backdoor', 'Backdoor', 'Generic', 'DoS', 'Backdoor', 'Generic', 'DoS', 'Generic', 'Backdoor', 'Backdoor', 'Backdoor', 'Worms', 'Generic', 'Backdoor', 'DoS', 'Backdoor', 'Backdoor', 'Generic', 'Generic', 'Backdoor', 'Generic', 'Worms', 'Backdoor', 'Backdoor', 'Backdoor', 'Generic', 'Backdoor', 'DoS', 'Backdoor', 'Backdoor', 'Worms', 'Generic', 'Generic', 'DoS', 'Generic', 'Generic', 'DoS', 'Worms', 'Worms', 'Worms', 'Reconnaissance', 'Backdoor', 'Worms', 'Worms', 'Backdoor', 'Backdoor', 'Worms', 'DoS', 'Generic', 'Backdoor', 'Generic', 'Backdoor', 'Worms', 'Worms', 'Backdoor', 'Generic', 'Generic', 'DoS', 'Worms', 'Generic', 'Backdoor', 'Generic', 'Generic', 'Generic', 'Generic', 'Generic', 'Worms', 'Generic', 'Reconnaissance', 'Worms', 'DoS', 'Generic', 'Worms', 'Generic', 'Normal', 'Generic', 'Backdoor', 'Normal', 'Backdoor', 'DoS', 'Generic', 'Generic', 'Generic', 'Backdoor', 'Generic', 'Generic', 'Backdoor', 'Backdoor', 'DoS', 'Generic', 'Generic', 'Generic', 'DoS', 'Backdoor', 'Backdoor', 'Backdoor', 'Generic', 'Generic', 'Worms', 'Reconnaissance', 'Backdoor', 'Generic', 'Backdoor', 'Backdoor', 'Generic', 'Backdoor', 'Generic', 'Backdoor', 'Generic', 'Worms', 'Generic', 'Generic', 'DoS', 'Generic', 'Generic', 'Worms', 'Generic', 'Backdoor', 'Worms', 'Generic', 'Backdoor', 'Generic', 'Reconnaissance', 'Backdoor', 'Backdoor', 'Generic', 'Reconnaissance', 'DoS', 'Backdoor', 'Generic', 'Backdoor', 'Worms', 'Worms', 'Backdoor', 'DoS', 'Backdoor', 'Generic', 'Backdoor', 'DoS', 'Backdoor', 'Backdoor', 'Backdoor', 'Generic', 'Generic', 'Generic', 'DoS', 'Backdoor', 'DoS', 'Normal', 'Backdoor', 'Generic', 'Generic', 'Generic', 'Generic', 'Generic', 'Worms', 'Worms', 'Generic', 'Generic', 'Worms', 'Generic', 'Worms', 'Generic', 'Worms', 'Backdoor', 'Generic', 'Backdoor', 'Backdoor', 'Normal', 'Backdoor', 'DoS', 'Generic', 'Generic', 'Worms', 'Backdoor', 'DoS', 'Backdoor', 'Generic', 'Reconnaissance', 'Worms', 'Generic', 'Normal', 'Generic', 'Backdoor', 'Backdoor', 'Backdoor', 'Generic', 'Reconnaissance', 'Backdoor', 'Backdoor', 'Backdoor', 'Backdoor', 'Backdoor', 'Backdoor', 'Backdoor', 'Generic', 'Normal', 'Generic', 'Generic', 'Backdoor', 'Backdoor', 'Worms', 'Backdoor', 'Generic', 'Backdoor', 'Backdoor', 'Generic', 'DoS', 'Generic', 'Backdoor', 'Backdoor', 'Generic', 'Generic', 'DoS', 'Generic', 'Backdoor', 'Generic', 'Generic', 'Generic', 'Backdoor', 'Backdoor', 'DoS', 'Backdoor', 'Backdoor', 'Backdoor', 'Worms', 'Backdoor', 'Generic', 'Generic', 'Generic', 'Generic', 'DoS', 'Generic', 'Generic', 'DoS', 'Backdoor', 'Backdoor', 'Generic', 'Worms', 'Worms', 'Generic', 'Generic', 'Worms', 'Worms', 'Generic', 'Backdoor', 'Worms', 'Normal', 'Reconnaissance', 'Backdoor', 'Generic', 'Backdoor', 'Generic', 'Worms', 'Backdoor', 'Backdoor', 'Generic', 'Generic', 'Generic', 'Generic', 'Backdoor', 'Reconnaissance', 'DoS', 'Backdoor', 'Generic', 'Generic', 'Generic', 'Generic', 'Backdoor', 'Backdoor', 'Generic', 'Generic', 'Generic', 'DoS', 'Backdoor', 'Generic', 'DoS', 'Generic', 'Worms', 'Worms', 'Worms', 'Generic', 'Generic', 'Backdoor', 'DoS', 'Reconnaissance', 'Backdoor', 'Generic', 'Worms', 'Backdoor', 'Backdoor', 'Generic', 'Worms', 'Generic', 'Generic', 'Backdoor', 'Generic', 'Backdoor', 'Backdoor', 'Worms', 'Exploits', 'Generic', 'Generic', 'Worms', 'DoS', 'Backdoor', 'Backdoor', 'DoS', 'Backdoor', 'DoS', 'Generic', 'Backdoor', 'Backdoor', 'Generic', 'DoS', 'Backdoor', 'Backdoor', 'Normal', 'Backdoor', 'Worms', 'Worms', 'Generic', 'Backdoor', 'Backdoor', 'Generic', 'Generic', 'Generic', 'Backdoor', 'Backdoor', 'Generic', 'DoS', 'Worms', 'Generic', 'Generic', 'DoS', 'Backdoor', 'Backdoor', 'Generic', 'Generic', 'Worms', 'Generic', 'Backdoor', 'Generic', 'Generic', 'Generic', 'Backdoor', 'Generic', 'Backdoor', 'DoS', 'Generic', 'Generic', 'Worms', 'Backdoor', 'DoS', 'Generic', 'Generic', 'Generic', 'Generic', 'DoS', 'Backdoor', 'Worms', 'Backdoor', 'Worms', 'DoS', 'Backdoor', 'DoS', 'Backdoor', 'Backdoor', 'Generic', 'Generic', 'Generic', 'Generic', 'Worms', 'Normal', 'Worms', 'Generic', 'Backdoor', 'Worms', 'Worms', 'Generic', 'Worms', 'Reconnaissance', 'DoS', 'Backdoor', 'Generic', 'Backdoor', 'Backdoor', 'Generic', 'Generic', 'Generic', 'Backdoor', 'Reconnaissance', 'Generic', 'Generic', 'Generic', 'Backdoor', 'Generic', 'Backdoor', 'Backdoor', 'DoS', 'Generic', 'Generic', 'Generic', 'Generic', 'DoS', 'DoS', 'Normal', 'Generic', 'Generic', 'Backdoor', 'Generic', 'Backdoor', 'Generic', 'Backdoor', 'Generic', 'Generic', 'DoS', 'Generic', 'Backdoor', 'Generic', 'Generic', 'Generic', 'Generic', 'DoS', 'Generic', 'Reconnaissance', 'Generic', 'Backdoor', 'DoS', 'Normal', 'Generic', 'Backdoor', 'Backdoor', 'Worms', 'Backdoor', 'Generic', 'DoS', 'Generic', 'DoS', 'Backdoor', 'Backdoor', 'Backdoor', 'Worms', 'Generic', 'Generic', 'Worms', 'Generic', 'Generic', 'Generic', 'Generic', 'Backdoor', 'Generic', 'Worms', 'DoS', 'Generic', 'DoS', 'Backdoor', 'Generic', 'DoS', 'Reconnaissance', 'Backdoor', 'Generic', 'Backdoor', 'Backdoor', 'Backdoor', 'Generic', 'Generic', 'Worms', 'Worms', 'Generic', 'Generic', 'Worms', 'Worms', 'Backdoor', 'Backdoor', 'Generic', 'Backdoor', 'Generic', 'Generic', 'Backdoor', 'Generic', 'DoS', 'Exploits', 'Normal', 'Reconnaissance', 'Worms', 'Generic', 'DoS', 'Backdoor', 'Generic', 'DoS', 'Backdoor', 'Generic', 'Generic', 'Generic', 'DoS', 'Generic', 'Backdoor', 'Worms', 'Backdoor', 'Generic', 'Backdoor', 'Generic', 'Worms', 'Backdoor', 'Backdoor', 'Backdoor', 'Normal', 'Generic', 'Generic', 'DoS', 'Normal', 'Generic', 'Generic', 'Normal', 'Worms', 'Reconnaissance', 'Generic', 'Generic', 'DoS', 'Worms', 'Backdoor', 'Worms', 'Generic', 'Normal', 'Backdoor', 'Worms', 'Generic', 'Generic', 'DoS', 'Backdoor', 'Generic', 'Generic', 'Worms', 'Reconnaissance', 'Backdoor', 'DoS', 'Generic', 'Worms', 'Backdoor', 'Backdoor', 'Generic', 'Backdoor', 'Worms', 'Backdoor', 'Generic', 'Worms', 'Worms', 'Backdoor', 'Backdoor', 'Generic', 'Backdoor', 'Reconnaissance', 'Backdoor', 'Reconnaissance', 'Generic', 'Worms', 'Generic', 'Generic', 'Generic', 'Generic', 'Backdoor', 'Worms', 'Worms', 'Generic', 'DoS', 'Worms', 'Backdoor', 'Backdoor', 'Generic', 'Generic', 'Backdoor', 'DoS', 'DoS', 'Generic', 'Normal', 'Generic', 'Generic', 'Generic', 'Generic', 'Generic', 'Worms', 'Backdoor', 'Generic', 'Generic', 'Backdoor', 'Worms', 'Generic', 'Generic', 'Backdoor', 'Backdoor', 'Worms', 'Backdoor', 'Backdoor', 'Backdoor', 'Generic', 'Backdoor', 'DoS', 'Generic', 'Generic', 'Worms', 'Generic', 'Generic', 'DoS', 'Generic', 'DoS', 'Reconnaissance', 'Generic', 'Normal', 'Worms', 'Worms', 'Backdoor', 'Backdoor', 'Generic', 'Worms', 'Backdoor', 'Backdoor', 'Generic', 'Worms', 'Generic', 'Backdoor', 'Backdoor', 'Backdoor', 'Backdoor', 'Generic', 'Worms', 'Backdoor', 'Backdoor', 'Generic', 'DoS', 'Generic', 'Generic', 'Backdoor', 'Worms', 'Backdoor', 'Generic', 'Generic', 'Reconnaissance', 'Backdoor', 'Generic', 'Backdoor', 'Backdoor', 'Backdoor', 'Worms', 'Backdoor', 'Generic', 'Worms', 'Worms', 'Worms', 'Generic', 'Generic', 'Worms', 'Generic', 'Backdoor', 'Generic', 'Worms', 'Generic', 'Backdoor', 'Generic', 'Shellcode', 'DoS', 'Generic', 'Generic', 'Backdoor', 'Backdoor', 'Worms', 'Worms', 'Generic', 'Generic', 'Backdoor', 'Generic', 'Backdoor', 'Generic', 'Worms', 'Generic', 'Backdoor', 'Backdoor', 'Generic', 'Backdoor', 'Generic', 'Generic', 'DoS', 'Worms', 'Generic', 'Worms', 'Generic', 'Generic', 'Reconnaissance', 'Backdoor', 'Worms', 'Generic', 'Worms', 'Backdoor', 'Generic', 'Backdoor', 'Generic', 'Worms', 'Worms', 'Backdoor', 'Backdoor', 'Worms', 'Worms', 'Backdoor', 'Generic', 'Generic', 'Generic', 'Generic', 'Worms', 'Worms', 'Reconnaissance', 'Backdoor', 'Generic', 'Backdoor', 'Backdoor', 'Normal', 'Backdoor', 'Backdoor', 'Worms', 'Backdoor', 'Worms', 'Backdoor', 'Generic', 'Generic', 'Backdoor', 'Backdoor', 'Generic', 'Generic', 'Backdoor', 'Generic', 'Worms', 'Worms', 'Generic', 'Generic', 'Generic', 'Worms', 'Generic', 'Backdoor', 'Generic', 'Generic', 'Backdoor', 'Backdoor', 'Generic', 'Generic', 'Backdoor', 'Normal', 'Normal', 'Generic', 'Backdoor', 'Worms', 'Backdoor', 'Backdoor', 'Worms', 'DoS', 'Backdoor', 'Worms', 'Generic', 'Worms', 'Backdoor', 'Worms', 'Backdoor', 'Worms', 'Backdoor', 'DoS', 'DoS', 'Generic', 'DoS', 'Backdoor', 'Backdoor', 'Generic', 'Generic', 'Generic', 'Worms', 'Backdoor', 'Generic', 'Worms', 'Generic', 'Backdoor', 'DoS', 'Backdoor', 'Generic', 'Worms', 'Generic', 'Backdoor', 'Generic', 'Generic', 'Generic', 'DoS', 'Generic', 'Generic', 'Backdoor', 'Worms', 'Backdoor', 'Normal', 'Worms', 'Backdoor', 'Generic', 'Generic', 'Backdoor', 'Backdoor', 'Worms', 'Generic', 'Worms', 'Generic', 'Generic', 'Generic', 'Generic', 'Generic', 'DoS', 'Generic', 'DoS', 'Backdoor', 'Backdoor', 'Worms', 'Backdoor', 'Backdoor', 'Worms', 'Worms', 'Backdoor', 'Backdoor', 'Worms', 'Generic', 'Generic', 'Worms', 'Worms', 'Backdoor', 'Backdoor', 'Worms', 'Normal', 'DoS', 'Backdoor', 'Reconnaissance', 'Reconnaissance', 'Generic', 'Backdoor', 'Worms', 'Worms', 'DoS', 'DoS', 'Backdoor', 'Generic', 'Backdoor', 'Generic', 'Backdoor', 'Generic', 'Worms', 'Worms', 'Worms', 'Exploits', 'Worms']\n"
                    ]
                }
            ],
            "source": [
                "# Predict\n",
                "test_input = train_set.copy()\n",
                "print(f\"Test input: {test_input.iloc[1]}\")\n",
                "\n",
                "test_input = test_input.drop(columns = [\"attack_cat\"])\n",
                "\n",
                "result = scratchNB.predict(test_input)\n",
                "print([val for val in result])"
            ]
        },
        {
            "cell_type": "markdown",
            "metadata": {},
            "source": [
                "### Naive Bayes scikit-learn"
            ]
        },
        {
            "cell_type": "code",
            "execution_count": 1785,
            "metadata": {},
            "outputs": [
                {
                    "name": "stdout",
                    "output_type": "stream",
                    "text": [
                        "['Backdoor' 'Generic' 'Generic' ... 'Worms' 'Exploits' 'Worms']\n"
                    ]
                }
            ],
            "source": [
                "from sklearn.naive_bayes import GaussianNB\n",
                "\n",
                "train_X = x_train_processed.copy().astype({'PC1': float, 'PC2': float})\n",
                "train_set_y = y_train_processed\n",
                "\n",
                "scikitNB = GaussianNB()\n",
                "scikitNB.fit(train_X, train_set_y)\n",
                "\n",
                "print(scikitNB.predict(test_input))"
            ]
        },
        {
            "cell_type": "markdown",
            "metadata": {},
            "source": [
                "### Validasi menggunakan k-fold cross validation"
            ]
        },
        {
            "cell_type": "code",
            "execution_count": 1786,
            "metadata": {},
            "outputs": [
                {
                    "name": "stdout",
                    "output_type": "stream",
                    "text": [
                        "NB scratch:\n",
                        "  Mean Accuracy: 0.0882\n",
                        "  Standard Deviation: 0.0155\n",
                        "--------------------------------------------------------\n",
                        "NB scikit:\n",
                        "  Mean Accuracy: 0.0882\n",
                        "  Standard Deviation: 0.0155\n"
                    ]
                }
            ],
            "source": [
                "from sklearn.model_selection import KFold\n",
                "from sklearn.model_selection import cross_val_score\n",
                "\n",
                "kf = KFold(n_splits = 5, shuffle = True, random_state = 42)\n",
                "\n",
                "scores_scratch = cross_val_score(scratchNB, train_set_X, train_set_y, cv = kf, scoring = \"accuracy\")\n",
                "scores_scikit = cross_val_score(scikitNB, train_set_X, train_set_y, cv = kf, scoring = \"accuracy\")\n",
                "\n",
                "print(\"NB scratch:\")\n",
                "print(f\"  Mean Accuracy: {scores_scratch.mean():.4f}\")\n",
                "print(f\"  Standard Deviation: {scores_scratch.std():.4f}\")\n",
                "print(\"--------------------------------------------------------\")\n",
                "print(\"NB scikit:\")\n",
                "print(f\"  Mean Accuracy: {scores_scikit.mean():.4f}\")\n",
                "print(f\"  Standard Deviation: {scores_scikit.std():.4f}\")"
            ]
        },
        {
            "cell_type": "markdown",
            "metadata": {
                "id": "TLDtIkPdLfHg"
            },
            "source": [
                "## C. ID3"
            ]
        },
        {
            "cell_type": "code",
            "execution_count": 1787,
            "metadata": {
                "id": "gZ6_x1LKLfHh"
            },
            "outputs": [],
            "source": [
                "# Type your code here"
            ]
        },
        {
            "cell_type": "markdown",
            "metadata": {
                "id": "LoH2u6fOLfHh"
            },
            "source": [
                "## D. Improvements (Optional)\n",
                "\n",
                "- **Visualize the model evaluation result**\n",
                "\n",
                "This will help you to understand the details more clearly about your model's performance. From the visualization, you can see clearly if your model is leaning towards a class than the others. (Hint: confusion matrix, ROC-AUC curve, etc.)\n",
                "\n",
                "- **Explore the hyperparameters of your models**\n",
                "\n",
                "Each models have their own hyperparameters. And each of the hyperparameter have different effects on the model behaviour. You can optimize the model performance by finding the good set of hyperparameters through a process called **hyperparameter tuning**. (Hint: Grid search, random search, bayesian optimization)\n",
                "\n",
                "- **Cross-validation**\n",
                "\n",
                "Cross-validation is a critical technique in machine learning and data science for evaluating and validating the performance of predictive models. It provides a more **robust** and **reliable** evaluation method compared to a hold-out (single train-test set) validation. Though, it requires more time and computing power because of how cross-validation works. (Hint: k-fold cross-validation, stratified k-fold cross-validation, etc.)"
            ]
        },
        {
            "cell_type": "code",
            "execution_count": 1788,
            "metadata": {
                "id": "pg-A54yELfHh"
            },
            "outputs": [],
            "source": [
                "# Type your code here"
            ]
        },
        {
            "cell_type": "markdown",
            "metadata": {
                "id": "Li4l53DjLfHh"
            },
            "source": [
                "## E. Submission\n",
                "To predict the test set target feature and submit the results to the kaggle competition platform, do the following:\n",
                "1. Create a new pipeline instance identical to the first in Data Preprocessing\n",
                "2. With the pipeline, apply `fit_transform` to the original training set before splitting, then only apply `transform` to the test set.\n",
                "3. Retrain the model on the preprocessed training set\n",
                "4. Predict the test set\n",
                "5. Make sure the submission contains the `id` and `attack_cat` column."
            ]
        },
        {
            "cell_type": "code",
            "execution_count": 1789,
            "metadata": {
                "id": "LeqnfWc-LfHi"
            },
            "outputs": [],
            "source": [
                "pipe = Pipeline([(\"scaler\", MinMaxScaler()),\n",
                "                 (\"encoder\", OneHotEncoder()),\n",
                "                 (\"normalizer\", DataNormalizer()),\n",
                "                 (\"reducer\", DimensionalityReducer())])"
            ]
        },
        {
            "cell_type": "code",
            "execution_count": 1790,
            "metadata": {},
            "outputs": [
                {
                    "data": {
                        "text/html": [
                            "<div>\n",
                            "<style scoped>\n",
                            "    .dataframe tbody tr th:only-of-type {\n",
                            "        vertical-align: middle;\n",
                            "    }\n",
                            "\n",
                            "    .dataframe tbody tr th {\n",
                            "        vertical-align: top;\n",
                            "    }\n",
                            "\n",
                            "    .dataframe thead th {\n",
                            "        text-align: right;\n",
                            "    }\n",
                            "</style>\n",
                            "<table border=\"1\" class=\"dataframe\">\n",
                            "  <thead>\n",
                            "    <tr style=\"text-align: right;\">\n",
                            "      <th></th>\n",
                            "      <th>sjit</th>\n",
                            "      <th>djit</th>\n",
                            "      <th>sinpkt</th>\n",
                            "      <th>dinpkt</th>\n",
                            "      <th>tcprtt</th>\n",
                            "      <th>synack</th>\n",
                            "      <th>ackdat</th>\n",
                            "      <th>id</th>\n",
                            "      <th>proto</th>\n",
                            "      <th>swin</th>\n",
                            "      <th>...</th>\n",
                            "      <th>ct_flw_http_mthd</th>\n",
                            "      <th>is_ftp_login</th>\n",
                            "      <th>ct_ftp_cmd</th>\n",
                            "      <th>ct_srv_src</th>\n",
                            "      <th>ct_srv_dst</th>\n",
                            "      <th>ct_dst_ltm</th>\n",
                            "      <th>ct_src_ltm</th>\n",
                            "      <th>ct_src_dport_ltm</th>\n",
                            "      <th>ct_dst_sport_ltm</th>\n",
                            "      <th>ct_dst_src_ltm</th>\n",
                            "    </tr>\n",
                            "  </thead>\n",
                            "  <tbody>\n",
                            "    <tr>\n",
                            "      <th>0</th>\n",
                            "      <td>2737.954123</td>\n",
                            "      <td>118.833969</td>\n",
                            "      <td>48.756556</td>\n",
                            "      <td>76.593602</td>\n",
                            "      <td>0.165117</td>\n",
                            "      <td>0.072001</td>\n",
                            "      <td>0.093116</td>\n",
                            "      <td>0</td>\n",
                            "      <td>tcp</td>\n",
                            "      <td>255.0</td>\n",
                            "      <td>...</td>\n",
                            "      <td>0.0</td>\n",
                            "      <td>0.0</td>\n",
                            "      <td>0.0</td>\n",
                            "      <td>5.0</td>\n",
                            "      <td>5.0</td>\n",
                            "      <td>2.0</td>\n",
                            "      <td>2.0</td>\n",
                            "      <td>2.0</td>\n",
                            "      <td>1.0</td>\n",
                            "      <td>2.0</td>\n",
                            "    </tr>\n",
                            "    <tr>\n",
                            "      <th>1</th>\n",
                            "      <td>2938.299144</td>\n",
                            "      <td>165.780563</td>\n",
                            "      <td>49.812539</td>\n",
                            "      <td>109.557602</td>\n",
                            "      <td>0.223604</td>\n",
                            "      <td>0.100248</td>\n",
                            "      <td>0.123356</td>\n",
                            "      <td>1</td>\n",
                            "      <td>tcp</td>\n",
                            "      <td>255.0</td>\n",
                            "      <td>...</td>\n",
                            "      <td>0.0</td>\n",
                            "      <td>NaN</td>\n",
                            "      <td>0.0</td>\n",
                            "      <td>6.0</td>\n",
                            "      <td>6.0</td>\n",
                            "      <td>1.0</td>\n",
                            "      <td>1.0</td>\n",
                            "      <td>1.0</td>\n",
                            "      <td>1.0</td>\n",
                            "      <td>5.0</td>\n",
                            "    </tr>\n",
                            "    <tr>\n",
                            "      <th>2</th>\n",
                            "      <td>4287.453629</td>\n",
                            "      <td>129.471406</td>\n",
                            "      <td>69.765530</td>\n",
                            "      <td>94.395906</td>\n",
                            "      <td>0.113189</td>\n",
                            "      <td>0.082498</td>\n",
                            "      <td>0.030691</td>\n",
                            "      <td>2</td>\n",
                            "      <td>tcp</td>\n",
                            "      <td>255.0</td>\n",
                            "      <td>...</td>\n",
                            "      <td>0.0</td>\n",
                            "      <td>0.0</td>\n",
                            "      <td>0.0</td>\n",
                            "      <td>4.0</td>\n",
                            "      <td>4.0</td>\n",
                            "      <td>1.0</td>\n",
                            "      <td>2.0</td>\n",
                            "      <td>1.0</td>\n",
                            "      <td>1.0</td>\n",
                            "      <td>4.0</td>\n",
                            "    </tr>\n",
                            "    <tr>\n",
                            "      <th>3</th>\n",
                            "      <td>0.000000</td>\n",
                            "      <td>0.000000</td>\n",
                            "      <td>0.001000</td>\n",
                            "      <td>0.000000</td>\n",
                            "      <td>0.000000</td>\n",
                            "      <td>0.000000</td>\n",
                            "      <td>0.000000</td>\n",
                            "      <td>3</td>\n",
                            "      <td>udp</td>\n",
                            "      <td>0.0</td>\n",
                            "      <td>...</td>\n",
                            "      <td>0.0</td>\n",
                            "      <td>0.0</td>\n",
                            "      <td>0.0</td>\n",
                            "      <td>10.0</td>\n",
                            "      <td>4.0</td>\n",
                            "      <td>2.0</td>\n",
                            "      <td>4.0</td>\n",
                            "      <td>2.0</td>\n",
                            "      <td>1.0</td>\n",
                            "      <td>4.0</td>\n",
                            "    </tr>\n",
                            "    <tr>\n",
                            "      <th>4</th>\n",
                            "      <td>1119.063538</td>\n",
                            "      <td>26.748141</td>\n",
                            "      <td>17.628799</td>\n",
                            "      <td>15.543294</td>\n",
                            "      <td>0.000655</td>\n",
                            "      <td>0.000526</td>\n",
                            "      <td>0.000129</td>\n",
                            "      <td>4</td>\n",
                            "      <td>tcp</td>\n",
                            "      <td>255.0</td>\n",
                            "      <td>...</td>\n",
                            "      <td>NaN</td>\n",
                            "      <td>0.0</td>\n",
                            "      <td>0.0</td>\n",
                            "      <td>13.0</td>\n",
                            "      <td>11.0</td>\n",
                            "      <td>10.0</td>\n",
                            "      <td>7.0</td>\n",
                            "      <td>6.0</td>\n",
                            "      <td>1.0</td>\n",
                            "      <td>7.0</td>\n",
                            "    </tr>\n",
                            "  </tbody>\n",
                            "</table>\n",
                            "<p>5 rows × 42 columns</p>\n",
                            "</div>"
                        ],
                        "text/plain": [
                            "          sjit        djit     sinpkt      dinpkt    tcprtt    synack  \\\n",
                            "0  2737.954123  118.833969  48.756556   76.593602  0.165117  0.072001   \n",
                            "1  2938.299144  165.780563  49.812539  109.557602  0.223604  0.100248   \n",
                            "2  4287.453629  129.471406  69.765530   94.395906  0.113189  0.082498   \n",
                            "3     0.000000    0.000000   0.001000    0.000000  0.000000  0.000000   \n",
                            "4  1119.063538   26.748141  17.628799   15.543294  0.000655  0.000526   \n",
                            "\n",
                            "     ackdat  id proto   swin  ...  ct_flw_http_mthd  is_ftp_login  ct_ftp_cmd  \\\n",
                            "0  0.093116   0   tcp  255.0  ...               0.0           0.0         0.0   \n",
                            "1  0.123356   1   tcp  255.0  ...               0.0           NaN         0.0   \n",
                            "2  0.030691   2   tcp  255.0  ...               0.0           0.0         0.0   \n",
                            "3  0.000000   3   udp    0.0  ...               0.0           0.0         0.0   \n",
                            "4  0.000129   4   tcp  255.0  ...               NaN           0.0         0.0   \n",
                            "\n",
                            "   ct_srv_src  ct_srv_dst  ct_dst_ltm  ct_src_ltm ct_src_dport_ltm  \\\n",
                            "0         5.0         5.0         2.0         2.0              2.0   \n",
                            "1         6.0         6.0         1.0         1.0              1.0   \n",
                            "2         4.0         4.0         1.0         2.0              1.0   \n",
                            "3        10.0         4.0         2.0         4.0              2.0   \n",
                            "4        13.0        11.0        10.0         7.0              6.0   \n",
                            "\n",
                            "   ct_dst_sport_ltm  ct_dst_src_ltm  \n",
                            "0               1.0             2.0  \n",
                            "1               1.0             5.0  \n",
                            "2               1.0             4.0  \n",
                            "3               1.0             4.0  \n",
                            "4               1.0             7.0  \n",
                            "\n",
                            "[5 rows x 42 columns]"
                        ]
                    },
                    "execution_count": 1790,
                    "metadata": {},
                    "output_type": "execute_result"
                }
            ],
            "source": [
                "df_additional = pd.read_csv('../dataset/test/additional_features_test.csv')\n",
                "df_basic = pd.read_csv('../dataset/test/basic_features_test.csv')\n",
                "df_content = pd.read_csv('../dataset/test/content_features_test.csv')\n",
                "df_flow = pd.read_csv('../dataset/test/flow_features_test.csv')\n",
                "df_time = pd.read_csv('../dataset/test/time_features_test.csv')\n",
                "\n",
                "df_merged_test = (\n",
                "    df_time\n",
                "    .merge(df_flow, on = \"id\", how = \"left\")\n",
                "    .merge(df_content, on = \"id\", how = \"left\")\n",
                "    .merge(df_basic, on = \"id\", how = \"left\")\n",
                "    .merge(df_additional, on = \"id\", how = \"left\")\n",
                ")\n",
                "\n",
                "df_merged_test.head()"
            ]
        },
        {
            "cell_type": "code",
            "execution_count": 1791,
            "metadata": {},
            "outputs": [],
            "source": [
                "df_merged = impute(df_merged)\n",
                "df_merged = replace_outliers_with_median(df_merged)\n",
                "df_merged = df_merged.drop_duplicates(subset=[col for col in df_merged.columns if col != 'id'], keep='first')\n",
                "\n",
                "df_merged_test = impute(df_merged_test)"
            ]
        },
        {
            "cell_type": "code",
            "execution_count": 1792,
            "metadata": {},
            "outputs": [],
            "source": [
                "train_x = df_merged.drop(['attack_cat','label'], axis=1)\n",
                "train_y = df_merged['attack_cat']\n",
                "\n",
                "test_x = df_merged_test"
            ]
        },
        {
            "cell_type": "code",
            "execution_count": 1793,
            "metadata": {},
            "outputs": [
                {
                    "name": "stderr",
                    "output_type": "stream",
                    "text": [
                        "C:\\Users\\irvan\\AppData\\Local\\Temp\\ipykernel_21204\\1243549885.py:7: FutureWarning: errors='ignore' is deprecated and will raise in a future version. Use to_numeric without passing `errors` and catch exceptions explicitly instead\n",
                        "  df = df.apply(pd.to_numeric, errors='ignore')\n"
                    ]
                }
            ],
            "source": [
                "# Lakukan fit dan transform untuk data training\n",
                "sampler = Undersampler()\n",
                "train_x, train_y = sampler.fit_transform(train_x, train_y)\n",
                "train_x = pipe.fit(train_x, train_y).transform(train_x)\n",
                "\n",
                "# Hanya lakukan transform untuk data test\n",
                "test_x = pipe.transform(test_x)"
            ]
        },
        {
            "cell_type": "code",
            "execution_count": 1794,
            "metadata": {},
            "outputs": [
                {
                    "name": "stdout",
                    "output_type": "stream",
                    "text": [
                        "['Analysis', 'Analysis', 'Analysis', 'Analysis', 'Analysis', 'Analysis', 'Analysis', 'Analysis', 'Analysis', 'Analysis', 'Analysis', 'Analysis', 'Analysis', 'Analysis', 'Analysis', 'Analysis', 'Analysis', 'Analysis', 'Analysis', 'Analysis', 'Analysis', 'Analysis', 'Analysis', 'Analysis', 'Analysis', 'Analysis', 'Analysis', 'Analysis', 'Analysis', 'Analysis', 'Analysis', 'Analysis', 'Analysis', 'Analysis', 'Analysis', 'Analysis', 'Analysis', 'Analysis', 'Analysis', 'Analysis', 'Analysis', 'Analysis', 'Analysis', 'Analysis', 'Analysis', 'Analysis', 'Analysis', 'Analysis', 'Analysis', 'Analysis', 'Analysis', 'Analysis', 'Analysis', 'Analysis', 'Analysis', 'Analysis', 'Analysis', 'Analysis', 'Analysis', 'Analysis', 'Analysis', 'Analysis', 'Analysis', 'Analysis', 'Analysis', 'Analysis', 'Analysis', 'Analysis', 'Analysis', 'Analysis', 'Analysis', 'Analysis', 'Analysis', 'Analysis', 'Analysis', 'Analysis', 'Analysis', 'Analysis', 'Analysis', 'Analysis', 'Analysis', 'Analysis', 'Analysis', 'Analysis', 'Analysis', 'Analysis', 'Analysis', 'Analysis', 'Analysis', 'Analysis', 'Analysis', 'Analysis', 'Analysis', 'Analysis', 'Analysis', 'Analysis', 'Analysis', 'Analysis', 'Analysis', 'Analysis', 'Analysis', 'Analysis', 'Analysis', 'Analysis', 'Analysis', 'Analysis', 'Analysis', 'Analysis', 'Analysis', 'Analysis', 'Analysis', 'Analysis', 'Analysis', 'Analysis', 'Analysis', 'Analysis', 'Analysis', 'Analysis', 'Analysis', 'Analysis', 'Analysis', 'Analysis', 'Analysis', 'Analysis', 'Analysis', 'Analysis', 'Analysis', 'Analysis', 'Analysis', 'Analysis', 'Analysis', 'Analysis', 'Analysis', 'Analysis', 'Analysis', 'Analysis', 'Analysis', 'Analysis', 'Analysis', 'Analysis', 'Analysis', 'Analysis', 'Analysis', 'Analysis', 'Analysis', 'Analysis', 'Analysis', 'Analysis', 'Analysis', 'Analysis', 'Analysis', 'Analysis', 'Analysis', 'Analysis', 'Analysis', 'Analysis', 'Analysis', 'Analysis', 'Analysis', 'Analysis', 'Analysis', 'Analysis', 'Analysis', 'Analysis', 'Analysis', 'Analysis', 'Analysis', 'Analysis', 'Analysis', 'Analysis', 'Analysis', 'Analysis', 'Analysis', 'Analysis', 'Analysis', 'Analysis', 'Analysis', 'Analysis', 'Analysis', 'Analysis', 'Analysis', 'Analysis', 'Analysis', 'Analysis', 'Analysis', 'Analysis', 'Analysis', 'Analysis', 'Analysis', 'Analysis', 'Analysis', 'Analysis', 'Analysis', 'Analysis', 'Analysis', 'Analysis', 'Analysis', 'Analysis', 'Analysis', 'Analysis']\n"
                    ]
                }
            ],
            "source": [
                "# Prediksi menggunakan KNN from scratch\n",
                "scratchKNN = KNN(10)\n",
                "scratchKNN.fit(train_x, train_y)\n",
                "\n",
                "test_input = test_x[:200]\n",
                "\n",
                "print(scratchKNN.predict(test_input))"
            ]
        },
        {
            "cell_type": "markdown",
            "metadata": {
                "id": "R-jXvKOpLfHi"
            },
            "source": [
                "# 6. Error Analysis\n",
                "\n",
                "Based on all the process you have done until the modeling and evaluation step, write an analysis to support each steps you have taken to solve this problem. Write the analysis using the markdown block. Some questions that may help you in writing the analysis:\n",
                "\n",
                "- Does my model perform better in predicting one class than the other? If so, why is that?\n",
                "- To each models I have tried, which performs the best and what could be the reason?\n",
                "- Is it better for me to impute or drop the missing data? Why?\n",
                "- Does feature scaling help improve my model performance?\n",
                "- etc..."
            ]
        },
        {
            "cell_type": "markdown",
            "metadata": {
                "id": "tWL3nEAELfHj"
            },
            "source": [
                "`Provide your analysis here`"
            ]
        }
    ],
    "metadata": {
        "colab": {
            "provenance": [],
            "toc_visible": true
        },
        "kernelspec": {
            "display_name": "Python 3",
            "language": "python",
            "name": "python3"
        },
        "language_info": {
            "codemirror_mode": {
                "name": "ipython",
                "version": 3
            },
            "file_extension": ".py",
            "mimetype": "text/x-python",
            "name": "python",
            "nbconvert_exporter": "python",
            "pygments_lexer": "ipython3",
            "version": "3.12.0"
        }
    },
    "nbformat": 4,
    "nbformat_minor": 0
}
